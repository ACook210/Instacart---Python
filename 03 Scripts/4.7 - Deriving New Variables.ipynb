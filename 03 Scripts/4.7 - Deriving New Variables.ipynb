{
 "cells": [
  {
   "cell_type": "code",
   "execution_count": 1,
   "id": "ec0431e2",
   "metadata": {},
   "outputs": [],
   "source": [
    "# Importing libraries\n",
    "import pandas as pd\n",
    "import numpy as np\n",
    "import os"
   ]
  },
  {
   "cell_type": "code",
   "execution_count": 2,
   "id": "79e4d87e",
   "metadata": {
    "scrolled": true
   },
   "outputs": [],
   "source": [
    "# Import 'orders_products_merged.pkl'\n",
    "df_ords_merged = pd.read_pickle(r'C:\\Users\\cook family\\Desktop\\07-2023 Instacart Basket Analysis\\02 Data\\Prepared Data\\orders_products_merged.pkl')"
   ]
  },
  {
   "cell_type": "markdown",
   "id": "21c0eeed",
   "metadata": {},
   "source": [
    "Question 1. Create the 'price_label' column"
   ]
  },
  {
   "cell_type": "code",
   "execution_count": 3,
   "id": "65abebcc",
   "metadata": {},
   "outputs": [
    {
     "name": "stdout",
     "output_type": "stream",
     "text": [
      "Number of rows and columns of df_ords_merged:\n",
      " (32404859, 16)\n",
      "\n",
      "Output of df_ords_merged:\n",
      "    order_id  user_id eval_set  order_number  orders_day_of_week  \\\n",
      "0   2539329        1    prior             1                   2   \n",
      "1   2398795        1    prior             2                   3   \n",
      "2    473747        1    prior             3                   3   \n",
      "3   2254736        1    prior             4                   4   \n",
      "4    431534        1    prior             5                   4   \n",
      "\n",
      "   order_hour_of_day  days_since_last_order  product_id  add_to_cart_order  \\\n",
      "0                  8                    NaN         196                  1   \n",
      "1                  7                   15.0         196                  1   \n",
      "2                 12                   21.0         196                  1   \n",
      "3                  7                   29.0         196                  1   \n",
      "4                 15                   28.0         196                  1   \n",
      "\n",
      "   reordered  Unnamed: 0 product_name  aisle_id  department_id  prices _merge  \n",
      "0          0         195         Soda        77              7     9.0   both  \n",
      "1          1         195         Soda        77              7     9.0   both  \n",
      "2          1         195         Soda        77              7     9.0   both  \n",
      "3          1         195         Soda        77              7     9.0   both  \n",
      "4          1         195         Soda        77              7     9.0   both  \n"
     ]
    }
   ],
   "source": [
    "#Check output of df_ords_merged\n",
    "print('Number of rows and columns of df_ords_merged:\\n', df_ords_merged.shape)\n",
    "print('\\nOutput of df_ords_merged:\\n', df_ords_merged.head(5))"
   ]
  },
  {
   "cell_type": "code",
   "execution_count": 4,
   "id": "72defc0e",
   "metadata": {},
   "outputs": [],
   "source": [
    "#Create the 'price_range' column to determine the products' price range\n",
    "df_ords_merged.loc[df_ords_merged['prices'] > 15, 'price_range'] = 'High-range product'"
   ]
  },
  {
   "cell_type": "code",
   "execution_count": 5,
   "id": "ba29de59",
   "metadata": {},
   "outputs": [],
   "source": [
    "df_ords_merged.loc[(df_ords_merged['prices'] <= 15) & (df_ords_merged['prices'] > 5), 'price_range'] = 'Mid-range product' "
   ]
  },
  {
   "cell_type": "code",
   "execution_count": 6,
   "id": "aa761087",
   "metadata": {},
   "outputs": [],
   "source": [
    "df_ords_merged.loc[df_ords_merged['prices'] <= 5, 'price_range'] = 'Low-range product'"
   ]
  },
  {
   "cell_type": "code",
   "execution_count": 7,
   "id": "df5d2891",
   "metadata": {},
   "outputs": [
    {
     "name": "stdout",
     "output_type": "stream",
     "text": [
      "\n",
      "Output of df_ords_merged:\n",
      "    order_id  user_id eval_set  order_number  orders_day_of_week  \\\n",
      "0   2539329        1    prior             1                   2   \n",
      "1   2398795        1    prior             2                   3   \n",
      "2    473747        1    prior             3                   3   \n",
      "3   2254736        1    prior             4                   4   \n",
      "4    431534        1    prior             5                   4   \n",
      "\n",
      "   order_hour_of_day  days_since_last_order  product_id  add_to_cart_order  \\\n",
      "0                  8                    NaN         196                  1   \n",
      "1                  7                   15.0         196                  1   \n",
      "2                 12                   21.0         196                  1   \n",
      "3                  7                   29.0         196                  1   \n",
      "4                 15                   28.0         196                  1   \n",
      "\n",
      "   reordered  Unnamed: 0 product_name  aisle_id  department_id  prices _merge  \\\n",
      "0          0         195         Soda        77              7     9.0   both   \n",
      "1          1         195         Soda        77              7     9.0   both   \n",
      "2          1         195         Soda        77              7     9.0   both   \n",
      "3          1         195         Soda        77              7     9.0   both   \n",
      "4          1         195         Soda        77              7     9.0   both   \n",
      "\n",
      "         price_range  \n",
      "0  Mid-range product  \n",
      "1  Mid-range product  \n",
      "2  Mid-range product  \n",
      "3  Mid-range product  \n",
      "4  Mid-range product  \n"
     ]
    }
   ],
   "source": [
    "#Check the output of df_ords_merged\n",
    "print('\\nOutput of df_ords_merged:\\n', df_ords_merged.head(5))"
   ]
  },
  {
   "cell_type": "code",
   "execution_count": 8,
   "id": "9cd286c2",
   "metadata": {},
   "outputs": [
    {
     "name": "stdout",
     "output_type": "stream",
     "text": [
      "\n",
      "Number of rows and columns of df_ords_merged:\n",
      " (32404859, 17)\n",
      "\n",
      "Values in the price_range column:\n",
      " Mid-range product     21860860\n",
      "Low-range product     10131448\n",
      "High-range product      412551\n",
      "Name: price_range, dtype: int64\n"
     ]
    }
   ],
   "source": [
    "#Check the dimensions and output of df_ords_merged\n",
    "print('\\nNumber of rows and columns of df_ords_merged:\\n', df_ords_merged.shape)\n",
    "print('\\nValues in the price_range column:\\n', df_ords_merged['price_range'].value_counts())"
   ]
  },
  {
   "cell_type": "markdown",
   "id": "5102ca10",
   "metadata": {},
   "source": [
    "Question 2. Create busiest_day"
   ]
  },
  {
   "cell_type": "code",
   "execution_count": 9,
   "id": "163c8927",
   "metadata": {},
   "outputs": [
    {
     "name": "stdout",
     "output_type": "stream",
     "text": [
      "Frequency of values in the orders_day_of_week column:\n",
      " 0    6204182\n",
      "1    5660230\n",
      "6    4496490\n",
      "2    4213830\n",
      "5    4205791\n",
      "3    3840534\n",
      "4    3783802\n",
      "Name: orders_day_of_week, dtype: int64\n"
     ]
    }
   ],
   "source": [
    "# Here is the frequency of the values in the 'orders_day_of_week' column\n",
    "print('Frequency of values in the orders_day_of_week column:\\n', df_ords_merged['orders_day_of_week'].value_counts())"
   ]
  },
  {
   "cell_type": "code",
   "execution_count": 10,
   "id": "3cbb2949",
   "metadata": {},
   "outputs": [],
   "source": [
    "# create a for-loop that append to the 'result' list the busyness of the days based on values in the 'orders_day_of_week' column\n",
    "result = []\n",
    "\n",
    "for value in df_ords_merged['orders_day_of_week']:\n",
    "  if value == 0:\n",
    "    result.append('Busiest day')\n",
    "  elif value == 4:\n",
    "    result.append('Least busy')\n",
    "  else:\n",
    "    result.append('Regularly busy')"
   ]
  },
  {
   "cell_type": "code",
   "execution_count": 11,
   "id": "c74457b1",
   "metadata": {},
   "outputs": [
    {
     "name": "stdout",
     "output_type": "stream",
     "text": [
      "Frequency of values in the busiest_day column:\n",
      " Regularly busy    22416875\n",
      "Busiest day        6204182\n",
      "Least busy         3783802\n",
      "Name: busiest_day, dtype: int64\n"
     ]
    }
   ],
   "source": [
    "#Create the 'busiest_day' column\n",
    "df_ords_merged['busiest_day'] = result\n",
    "\n",
    "# get the frequency of the values in the 'busiest_day' column\n",
    "print('Frequency of values in the busiest_day column:\\n', df_ords_merged['busiest_day'].value_counts())"
   ]
  },
  {
   "cell_type": "markdown",
   "id": "5da2c114",
   "metadata": {},
   "source": [
    "Question 3. Create busiest_days column"
   ]
  },
  {
   "cell_type": "code",
   "execution_count": 12,
   "id": "8596317e",
   "metadata": {
    "scrolled": false
   },
   "outputs": [
    {
     "name": "stdout",
     "output_type": "stream",
     "text": [
      "Frequency of values in the orders_day_of_week column:\n",
      " 0    6204182\n",
      "1    5660230\n",
      "6    4496490\n",
      "2    4213830\n",
      "5    4205791\n",
      "3    3840534\n",
      "4    3783802\n",
      "Name: orders_day_of_week, dtype: int64\n"
     ]
    }
   ],
   "source": [
    "#Get the frequency of the values in the 'orders_day_of_week' column\n",
    "print('Frequency of values in the orders_day_of_week column:\\n', df_ords_merged['orders_day_of_week'].value_counts())"
   ]
  },
  {
   "cell_type": "markdown",
   "id": "4bb12202",
   "metadata": {},
   "source": [
    "Question 4 Technical fix for freezing"
   ]
  },
  {
   "cell_type": "code",
   "execution_count": 13,
   "id": "24615c19",
   "metadata": {},
   "outputs": [],
   "source": [
    "#Create a for-loop that append to the 'days' list the busyness of the days based on values in the 'orders_day_of_week' column\n",
    "days = []\n",
    "\n",
    "for day in df_ords_merged['orders_day_of_week']:\n",
    "  if day == 0 or day == 1:\n",
    "    days.append('Busiest days')\n",
    "  elif day == 4 or day == 3:\n",
    "    days.append('Slowest days')\n",
    "  else:\n",
    "    days.append('Regular days')"
   ]
  },
  {
   "cell_type": "code",
   "execution_count": 14,
   "id": "b255cdb8",
   "metadata": {},
   "outputs": [
    {
     "name": "stdout",
     "output_type": "stream",
     "text": [
      "Frequency of values in the busiest_days column:\n",
      " Regular days    12916111\n",
      "Busiest days    11864412\n",
      "Slowest days     7624336\n",
      "Name: busiest_days, dtype: int64\n"
     ]
    }
   ],
   "source": [
    "#Create the 'busiest_days' column\n",
    "df_ords_merged['busiest_days'] = days\n",
    "\n",
    "# get the frequency of the values in the 'busiest_days' column\n",
    "print('Frequency of values in the busiest_days column:\\n', df_ords_merged['busiest_days'].value_counts())"
   ]
  },
  {
   "cell_type": "code",
   "execution_count": 15,
   "id": "6c30c184",
   "metadata": {
    "scrolled": true
   },
   "outputs": [
    {
     "name": "stdout",
     "output_type": "stream",
     "text": [
      "Output of the orders_day_of_week and the busiest_days column:\n",
      "    orders_day_of_week  busiest_days\n",
      "0                   2  Regular days\n",
      "1                   3  Slowest days\n",
      "2                   3  Slowest days\n",
      "3                   4  Slowest days\n",
      "4                   4  Slowest days\n",
      "5                   2  Regular days\n",
      "6                   1  Busiest days\n",
      "7                   1  Busiest days\n",
      "8                   1  Busiest days\n",
      "9                   4  Slowest days\n"
     ]
    }
   ],
   "source": [
    "#Check the output of the 'orders_day_of_week' and the 'busiest_days'\n",
    "print('Output of the orders_day_of_week and the busiest_days column:\\n', df_ords_merged[['orders_day_of_week', 'busiest_days']].head(10))"
   ]
  },
  {
   "cell_type": "markdown",
   "id": "13184cf1",
   "metadata": {},
   "source": [
    "Question 5 Create the busiest_period_od_day column"
   ]
  },
  {
   "cell_type": "code",
   "execution_count": 16,
   "id": "a5181a94",
   "metadata": {
    "scrolled": true
   },
   "outputs": [
    {
     "name": "stdout",
     "output_type": "stream",
     "text": [
      "Frequency of values in the order_hour_of_day column:\n",
      " 10    2761760\n",
      "11    2736140\n",
      "14    2689136\n",
      "15    2662144\n",
      "13    2660954\n",
      "12    2618532\n",
      "16    2535202\n",
      "9     2454203\n",
      "17    2087654\n",
      "8     1718118\n",
      "18    1636502\n",
      "19    1258305\n",
      "20     976156\n",
      "7      891054\n",
      "21     795637\n",
      "22     634225\n",
      "23     402316\n",
      "6      290493\n",
      "0      218769\n",
      "1      115700\n",
      "5       87961\n",
      "2       69375\n",
      "4       53242\n",
      "3       51281\n",
      "Name: order_hour_of_day, dtype: int64\n"
     ]
    }
   ],
   "source": [
    "#Frequency of the values in the 'order_hour_of_day' column\n",
    "print('Frequency of values in the order_hour_of_day column:\\n', df_ords_merged['order_hour_of_day'].value_counts())"
   ]
  },
  {
   "cell_type": "code",
   "execution_count": 17,
   "id": "42b044ad",
   "metadata": {},
   "outputs": [],
   "source": [
    "# Create a for-loop that append to the 'hours' list the business hours based on values in the 'order_hour_of_day' column\n",
    "hours = []\n",
    "\n",
    "for hour in df_ords_merged['order_hour_of_day']:\n",
    "  if hour in [10, 11, 14, 15, 13, 12, 16, 9]:\n",
    "    hours.append('Most orders')\n",
    "  elif hour in [23, 6, 0, 1, 5, 2, 4, 3]:\n",
    "    hours.append('Fewest orders')\n",
    "  else:\n",
    "    hours.append('Average orders')"
   ]
  },
  {
   "cell_type": "code",
   "execution_count": 18,
   "id": "2ba6618e",
   "metadata": {},
   "outputs": [],
   "source": [
    "# Create the 'busiest_period_of_day' column\n",
    "df_ords_merged['busiest_period_of_day'] = hours"
   ]
  },
  {
   "cell_type": "code",
   "execution_count": 19,
   "id": "05d6340b",
   "metadata": {},
   "outputs": [
    {
     "data": {
      "text/html": [
       "<div>\n",
       "<style scoped>\n",
       "    .dataframe tbody tr th:only-of-type {\n",
       "        vertical-align: middle;\n",
       "    }\n",
       "\n",
       "    .dataframe tbody tr th {\n",
       "        vertical-align: top;\n",
       "    }\n",
       "\n",
       "    .dataframe thead th {\n",
       "        text-align: right;\n",
       "    }\n",
       "</style>\n",
       "<table border=\"1\" class=\"dataframe\">\n",
       "  <thead>\n",
       "    <tr style=\"text-align: right;\">\n",
       "      <th></th>\n",
       "      <th>order_hour_of_day</th>\n",
       "      <th>busiest_period_of_day</th>\n",
       "    </tr>\n",
       "  </thead>\n",
       "  <tbody>\n",
       "    <tr>\n",
       "      <th>0</th>\n",
       "      <td>8</td>\n",
       "      <td>Average orders</td>\n",
       "    </tr>\n",
       "    <tr>\n",
       "      <th>1</th>\n",
       "      <td>7</td>\n",
       "      <td>Average orders</td>\n",
       "    </tr>\n",
       "    <tr>\n",
       "      <th>2</th>\n",
       "      <td>12</td>\n",
       "      <td>Most orders</td>\n",
       "    </tr>\n",
       "    <tr>\n",
       "      <th>3</th>\n",
       "      <td>7</td>\n",
       "      <td>Average orders</td>\n",
       "    </tr>\n",
       "    <tr>\n",
       "      <th>4</th>\n",
       "      <td>15</td>\n",
       "      <td>Most orders</td>\n",
       "    </tr>\n",
       "    <tr>\n",
       "      <th>5</th>\n",
       "      <td>7</td>\n",
       "      <td>Average orders</td>\n",
       "    </tr>\n",
       "    <tr>\n",
       "      <th>6</th>\n",
       "      <td>9</td>\n",
       "      <td>Most orders</td>\n",
       "    </tr>\n",
       "    <tr>\n",
       "      <th>7</th>\n",
       "      <td>14</td>\n",
       "      <td>Most orders</td>\n",
       "    </tr>\n",
       "    <tr>\n",
       "      <th>8</th>\n",
       "      <td>16</td>\n",
       "      <td>Most orders</td>\n",
       "    </tr>\n",
       "    <tr>\n",
       "      <th>9</th>\n",
       "      <td>8</td>\n",
       "      <td>Average orders</td>\n",
       "    </tr>\n",
       "  </tbody>\n",
       "</table>\n",
       "</div>"
      ],
      "text/plain": [
       "   order_hour_of_day busiest_period_of_day\n",
       "0                  8        Average orders\n",
       "1                  7        Average orders\n",
       "2                 12           Most orders\n",
       "3                  7        Average orders\n",
       "4                 15           Most orders\n",
       "5                  7        Average orders\n",
       "6                  9           Most orders\n",
       "7                 14           Most orders\n",
       "8                 16           Most orders\n",
       "9                  8        Average orders"
      ]
     },
     "execution_count": 19,
     "metadata": {},
     "output_type": "execute_result"
    }
   ],
   "source": [
    "# Check the output of 'order_hour_of_day' and the 'busiest_period_of_day'\n",
    "df_ords_merged[['order_hour_of_day', 'busiest_period_of_day']].head(10)"
   ]
  },
  {
   "cell_type": "code",
   "execution_count": 20,
   "id": "2965576a",
   "metadata": {},
   "outputs": [
    {
     "name": "stdout",
     "output_type": "stream",
     "text": [
      "Frequency of values in the busiest_period_of_day column:\n",
      " Most orders       21118071\n",
      "Average orders     9997651\n",
      "Fewest orders      1289137\n",
      "Name: busiest_period_of_day, dtype: int64\n"
     ]
    }
   ],
   "source": [
    "# Frequency the 'busiest_period_of_day' column\n",
    "print('Frequency of values in the busiest_period_of_day column:\\n', df_ords_merged['busiest_period_of_day'].value_counts())"
   ]
  },
  {
   "cell_type": "code",
   "execution_count": 21,
   "id": "89cc94cd",
   "metadata": {},
   "outputs": [],
   "source": [
    "# Export df_ords_merged in .pkl format\n",
    "df_ords_merged.to_pickle(r'C:\\Users\\cook family\\Desktop\\07-2023 Instacart Basket Analysis\\02 Data\\Prepared Data\\orders_products_merged.pkl')"
   ]
  },
  {
   "cell_type": "code",
   "execution_count": null,
   "id": "ac9c060a",
   "metadata": {},
   "outputs": [],
   "source": []
  }
 ],
 "metadata": {
  "kernelspec": {
   "display_name": "Python 3 (ipykernel)",
   "language": "python",
   "name": "python3"
  },
  "language_info": {
   "codemirror_mode": {
    "name": "ipython",
    "version": 3
   },
   "file_extension": ".py",
   "mimetype": "text/x-python",
   "name": "python",
   "nbconvert_exporter": "python",
   "pygments_lexer": "ipython3",
   "version": "3.11.3"
  }
 },
 "nbformat": 4,
 "nbformat_minor": 5
}
