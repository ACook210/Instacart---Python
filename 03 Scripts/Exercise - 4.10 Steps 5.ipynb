{
 "cells": [
  {
   "cell_type": "markdown",
   "id": "fcfa8ad0",
   "metadata": {},
   "source": [
    "## 1. Import data and libraries"
   ]
  },
  {
   "cell_type": "code",
   "execution_count": 1,
   "id": "d2504edc",
   "metadata": {},
   "outputs": [],
   "source": [
    "# Import libraries\n",
    "\n",
    "import pandas as pd\n",
    "import numpy as np\n",
    "import os\n",
    "import matplotlib.pyplot as plt\n",
    "import seaborn as sns\n",
    "import scipy"
   ]
  },
  {
   "cell_type": "code",
   "execution_count": 2,
   "id": "e85026e9",
   "metadata": {},
   "outputs": [],
   "source": [
    "# Assign project folder path to a variable\n",
    "\n",
    "path = r'C:\\Users\\cook family\\Desktop\\07-2023 Instacart Basket Analysis'"
   ]
  },
  {
   "cell_type": "code",
   "execution_count": 3,
   "id": "22b27d1f",
   "metadata": {},
   "outputs": [],
   "source": [
    "# Import data\n",
    "\n",
    "df_final = pd.read_pickle(os.path.join(path, '02 Data', 'Prepared Data', 'orders_products_customers_merged.pkl'))"
   ]
  },
  {
   "cell_type": "code",
   "execution_count": 4,
   "id": "38094268",
   "metadata": {},
   "outputs": [
    {
     "data": {
      "text/html": [
       "<div>\n",
       "<style scoped>\n",
       "    .dataframe tbody tr th:only-of-type {\n",
       "        vertical-align: middle;\n",
       "    }\n",
       "\n",
       "    .dataframe tbody tr th {\n",
       "        vertical-align: top;\n",
       "    }\n",
       "\n",
       "    .dataframe thead th {\n",
       "        text-align: right;\n",
       "    }\n",
       "</style>\n",
       "<table border=\"1\" class=\"dataframe\">\n",
       "  <thead>\n",
       "    <tr style=\"text-align: right;\">\n",
       "      <th></th>\n",
       "      <th>order_id</th>\n",
       "      <th>user_id</th>\n",
       "      <th>eval_set</th>\n",
       "      <th>order_number</th>\n",
       "      <th>orders_day_of_week</th>\n",
       "      <th>order_hour_of_day</th>\n",
       "      <th>days_since_last_order</th>\n",
       "      <th>product_id</th>\n",
       "      <th>add_to_cart_order</th>\n",
       "      <th>reordered</th>\n",
       "      <th>...</th>\n",
       "      <th>Last Name</th>\n",
       "      <th>Gender</th>\n",
       "      <th>State</th>\n",
       "      <th>Age</th>\n",
       "      <th>date_joined</th>\n",
       "      <th>n_dependants</th>\n",
       "      <th>fam_status</th>\n",
       "      <th>income</th>\n",
       "      <th>region</th>\n",
       "      <th>activity_flag</th>\n",
       "    </tr>\n",
       "  </thead>\n",
       "  <tbody>\n",
       "    <tr>\n",
       "      <th>0</th>\n",
       "      <td>2539329</td>\n",
       "      <td>1</td>\n",
       "      <td>prior</td>\n",
       "      <td>1</td>\n",
       "      <td>2</td>\n",
       "      <td>8</td>\n",
       "      <td>NaN</td>\n",
       "      <td>196</td>\n",
       "      <td>1</td>\n",
       "      <td>0</td>\n",
       "      <td>...</td>\n",
       "      <td>Nguyen</td>\n",
       "      <td>Female</td>\n",
       "      <td>Alabama</td>\n",
       "      <td>31</td>\n",
       "      <td>2/17/2019</td>\n",
       "      <td>3</td>\n",
       "      <td>married</td>\n",
       "      <td>40423</td>\n",
       "      <td>South</td>\n",
       "      <td>high activity customer</td>\n",
       "    </tr>\n",
       "    <tr>\n",
       "      <th>1</th>\n",
       "      <td>2398795</td>\n",
       "      <td>1</td>\n",
       "      <td>prior</td>\n",
       "      <td>2</td>\n",
       "      <td>3</td>\n",
       "      <td>7</td>\n",
       "      <td>15.0</td>\n",
       "      <td>196</td>\n",
       "      <td>1</td>\n",
       "      <td>1</td>\n",
       "      <td>...</td>\n",
       "      <td>Nguyen</td>\n",
       "      <td>Female</td>\n",
       "      <td>Alabama</td>\n",
       "      <td>31</td>\n",
       "      <td>2/17/2019</td>\n",
       "      <td>3</td>\n",
       "      <td>married</td>\n",
       "      <td>40423</td>\n",
       "      <td>South</td>\n",
       "      <td>high activity customer</td>\n",
       "    </tr>\n",
       "    <tr>\n",
       "      <th>2</th>\n",
       "      <td>473747</td>\n",
       "      <td>1</td>\n",
       "      <td>prior</td>\n",
       "      <td>3</td>\n",
       "      <td>3</td>\n",
       "      <td>12</td>\n",
       "      <td>21.0</td>\n",
       "      <td>196</td>\n",
       "      <td>1</td>\n",
       "      <td>1</td>\n",
       "      <td>...</td>\n",
       "      <td>Nguyen</td>\n",
       "      <td>Female</td>\n",
       "      <td>Alabama</td>\n",
       "      <td>31</td>\n",
       "      <td>2/17/2019</td>\n",
       "      <td>3</td>\n",
       "      <td>married</td>\n",
       "      <td>40423</td>\n",
       "      <td>South</td>\n",
       "      <td>high activity customer</td>\n",
       "    </tr>\n",
       "    <tr>\n",
       "      <th>3</th>\n",
       "      <td>2254736</td>\n",
       "      <td>1</td>\n",
       "      <td>prior</td>\n",
       "      <td>4</td>\n",
       "      <td>4</td>\n",
       "      <td>7</td>\n",
       "      <td>29.0</td>\n",
       "      <td>196</td>\n",
       "      <td>1</td>\n",
       "      <td>1</td>\n",
       "      <td>...</td>\n",
       "      <td>Nguyen</td>\n",
       "      <td>Female</td>\n",
       "      <td>Alabama</td>\n",
       "      <td>31</td>\n",
       "      <td>2/17/2019</td>\n",
       "      <td>3</td>\n",
       "      <td>married</td>\n",
       "      <td>40423</td>\n",
       "      <td>South</td>\n",
       "      <td>high activity customer</td>\n",
       "    </tr>\n",
       "    <tr>\n",
       "      <th>4</th>\n",
       "      <td>431534</td>\n",
       "      <td>1</td>\n",
       "      <td>prior</td>\n",
       "      <td>5</td>\n",
       "      <td>4</td>\n",
       "      <td>15</td>\n",
       "      <td>28.0</td>\n",
       "      <td>196</td>\n",
       "      <td>1</td>\n",
       "      <td>1</td>\n",
       "      <td>...</td>\n",
       "      <td>Nguyen</td>\n",
       "      <td>Female</td>\n",
       "      <td>Alabama</td>\n",
       "      <td>31</td>\n",
       "      <td>2/17/2019</td>\n",
       "      <td>3</td>\n",
       "      <td>married</td>\n",
       "      <td>40423</td>\n",
       "      <td>South</td>\n",
       "      <td>high activity customer</td>\n",
       "    </tr>\n",
       "  </tbody>\n",
       "</table>\n",
       "<p>5 rows × 37 columns</p>\n",
       "</div>"
      ],
      "text/plain": [
       "   order_id  user_id eval_set  order_number  orders_day_of_week  \\\n",
       "0   2539329        1    prior             1                   2   \n",
       "1   2398795        1    prior             2                   3   \n",
       "2    473747        1    prior             3                   3   \n",
       "3   2254736        1    prior             4                   4   \n",
       "4    431534        1    prior             5                   4   \n",
       "\n",
       "   order_hour_of_day  days_since_last_order  product_id  add_to_cart_order  \\\n",
       "0                  8                    NaN         196                  1   \n",
       "1                  7                   15.0         196                  1   \n",
       "2                 12                   21.0         196                  1   \n",
       "3                  7                   29.0         196                  1   \n",
       "4                 15                   28.0         196                  1   \n",
       "\n",
       "   reordered  ...  Last Name  Gender    State  Age  date_joined n_dependants  \\\n",
       "0          0  ...     Nguyen  Female  Alabama   31    2/17/2019            3   \n",
       "1          1  ...     Nguyen  Female  Alabama   31    2/17/2019            3   \n",
       "2          1  ...     Nguyen  Female  Alabama   31    2/17/2019            3   \n",
       "3          1  ...     Nguyen  Female  Alabama   31    2/17/2019            3   \n",
       "4          1  ...     Nguyen  Female  Alabama   31    2/17/2019            3   \n",
       "\n",
       "  fam_status income region           activity_flag  \n",
       "0    married  40423  South  high activity customer  \n",
       "1    married  40423  South  high activity customer  \n",
       "2    married  40423  South  high activity customer  \n",
       "3    married  40423  South  high activity customer  \n",
       "4    married  40423  South  high activity customer  \n",
       "\n",
       "[5 rows x 37 columns]"
      ]
     },
     "execution_count": 4,
     "metadata": {},
     "output_type": "execute_result"
    }
   ],
   "source": [
    "# Check output\n",
    "\n",
    "df_final.head()"
   ]
  },
  {
   "cell_type": "code",
   "execution_count": 5,
   "id": "ba0f8503",
   "metadata": {},
   "outputs": [
    {
     "data": {
      "text/plain": [
       "(32404859, 37)"
      ]
     },
     "execution_count": 5,
     "metadata": {},
     "output_type": "execute_result"
    }
   ],
   "source": [
    "# Check shape\n",
    "\n",
    "df_final.shape"
   ]
  },
  {
   "cell_type": "markdown",
   "id": "08b8f899",
   "metadata": {},
   "source": [
    "## 2. Create sample set of dataframe"
   ]
  },
  {
   "cell_type": "code",
   "execution_count": 6,
   "id": "e0f1b647",
   "metadata": {},
   "outputs": [],
   "source": [
    "# Create a list holding True/False values to the test np.random.rant() <= 0.7\n",
    "\n",
    "dev = np.random.rand(len(df_final)) <= 0.7"
   ]
  },
  {
   "cell_type": "code",
   "execution_count": 7,
   "id": "7c9db269",
   "metadata": {},
   "outputs": [],
   "source": [
    "# Store 70% of the sample in the dataframe big\n",
    "\n",
    "big = df_final[dev]"
   ]
  },
  {
   "cell_type": "code",
   "execution_count": 8,
   "id": "c3b8d7e3",
   "metadata": {},
   "outputs": [],
   "source": [
    "# Store 30% of the sample in the dataframe small\n",
    "\n",
    "small = df_final[~dev]"
   ]
  },
  {
   "cell_type": "code",
   "execution_count": 9,
   "id": "2719497c",
   "metadata": {},
   "outputs": [
    {
     "data": {
      "text/plain": [
       "32404859"
      ]
     },
     "execution_count": 9,
     "metadata": {},
     "output_type": "execute_result"
    }
   ],
   "source": [
    "# Add both samples together to check results\n",
    "\n",
    "len(df_final)"
   ]
  },
  {
   "cell_type": "code",
   "execution_count": 10,
   "id": "1ea5521e",
   "metadata": {},
   "outputs": [
    {
     "data": {
      "text/plain": [
       "32404859"
      ]
     },
     "execution_count": 10,
     "metadata": {},
     "output_type": "execute_result"
    }
   ],
   "source": [
    "len(big) + len(small)"
   ]
  },
  {
   "cell_type": "code",
   "execution_count": 11,
   "id": "58639be5",
   "metadata": {},
   "outputs": [
    {
     "data": {
      "text/plain": [
       "Index(['order_id', 'user_id', 'eval_set', 'order_number', 'orders_day_of_week',\n",
       "       'order_hour_of_day', 'days_since_last_order', 'product_id',\n",
       "       'add_to_cart_order', 'reordered', 'Unnamed: 0', 'product_name',\n",
       "       'aisle_id', 'department_id', 'prices', '_merge', 'price_range',\n",
       "       'busiest_day', 'busiest_days', 'busiest_period_of_day', 'max_order',\n",
       "       'loyalty_flag', 'mean_price', 'spending_flag', 'median_days',\n",
       "       'order_frequency_flag', 'First Name', 'Last Name', 'Gender', 'State',\n",
       "       'Age', 'date_joined', 'n_dependants', 'fam_status', 'income', 'region',\n",
       "       'activity_flag'],\n",
       "      dtype='object')"
      ]
     },
     "execution_count": 11,
     "metadata": {},
     "output_type": "execute_result"
    }
   ],
   "source": [
    "# Reduce samples to only columns relevant to the analysis\n",
    "\n",
    "df_final.columns"
   ]
  },
  {
   "cell_type": "code",
   "execution_count": 12,
   "id": "9e3b6085",
   "metadata": {},
   "outputs": [],
   "source": [
    "# Reduce samples to subset of only columns relevant to analysis\n",
    "\n",
    "df_final_subset = small[['Gender', 'State', 'Age', 'n_dependants', 'fam_status', 'income', 'order_number', 'loyalty_flag', 'spending_flag', 'order_frequency_flag', 'activity_flag', 'orders_day_of_week', 'order_hour_of_day', 'department_id', 'prices', 'price_range', 'busiest_day', 'busiest_period_of_day', 'region']]"
   ]
  },
  {
   "cell_type": "code",
   "execution_count": 13,
   "id": "c88e0437",
   "metadata": {},
   "outputs": [
    {
     "data": {
      "text/html": [
       "<div>\n",
       "<style scoped>\n",
       "    .dataframe tbody tr th:only-of-type {\n",
       "        vertical-align: middle;\n",
       "    }\n",
       "\n",
       "    .dataframe tbody tr th {\n",
       "        vertical-align: top;\n",
       "    }\n",
       "\n",
       "    .dataframe thead th {\n",
       "        text-align: right;\n",
       "    }\n",
       "</style>\n",
       "<table border=\"1\" class=\"dataframe\">\n",
       "  <thead>\n",
       "    <tr style=\"text-align: right;\">\n",
       "      <th></th>\n",
       "      <th>Gender</th>\n",
       "      <th>State</th>\n",
       "      <th>Age</th>\n",
       "      <th>n_dependants</th>\n",
       "      <th>fam_status</th>\n",
       "      <th>income</th>\n",
       "      <th>order_number</th>\n",
       "      <th>loyalty_flag</th>\n",
       "      <th>spending_flag</th>\n",
       "      <th>order_frequency_flag</th>\n",
       "      <th>activity_flag</th>\n",
       "      <th>orders_day_of_week</th>\n",
       "      <th>order_hour_of_day</th>\n",
       "      <th>department_id</th>\n",
       "      <th>prices</th>\n",
       "      <th>price_range</th>\n",
       "      <th>busiest_day</th>\n",
       "      <th>busiest_period_of_day</th>\n",
       "      <th>region</th>\n",
       "    </tr>\n",
       "  </thead>\n",
       "  <tbody>\n",
       "    <tr>\n",
       "      <th>4</th>\n",
       "      <td>Female</td>\n",
       "      <td>Alabama</td>\n",
       "      <td>31</td>\n",
       "      <td>3</td>\n",
       "      <td>married</td>\n",
       "      <td>40423</td>\n",
       "      <td>5</td>\n",
       "      <td>New customer</td>\n",
       "      <td>Low spender</td>\n",
       "      <td>Non-frequent customer</td>\n",
       "      <td>high activity customer</td>\n",
       "      <td>4</td>\n",
       "      <td>15</td>\n",
       "      <td>7</td>\n",
       "      <td>9.0</td>\n",
       "      <td>Mid-range product</td>\n",
       "      <td>Least busy</td>\n",
       "      <td>Most orders</td>\n",
       "      <td>South</td>\n",
       "    </tr>\n",
       "    <tr>\n",
       "      <th>5</th>\n",
       "      <td>Female</td>\n",
       "      <td>Alabama</td>\n",
       "      <td>31</td>\n",
       "      <td>3</td>\n",
       "      <td>married</td>\n",
       "      <td>40423</td>\n",
       "      <td>6</td>\n",
       "      <td>New customer</td>\n",
       "      <td>Low spender</td>\n",
       "      <td>Non-frequent customer</td>\n",
       "      <td>high activity customer</td>\n",
       "      <td>2</td>\n",
       "      <td>7</td>\n",
       "      <td>7</td>\n",
       "      <td>9.0</td>\n",
       "      <td>Mid-range product</td>\n",
       "      <td>Regularly busy</td>\n",
       "      <td>Average orders</td>\n",
       "      <td>South</td>\n",
       "    </tr>\n",
       "    <tr>\n",
       "      <th>11</th>\n",
       "      <td>Female</td>\n",
       "      <td>Alabama</td>\n",
       "      <td>31</td>\n",
       "      <td>3</td>\n",
       "      <td>married</td>\n",
       "      <td>40423</td>\n",
       "      <td>1</td>\n",
       "      <td>New customer</td>\n",
       "      <td>Low spender</td>\n",
       "      <td>Non-frequent customer</td>\n",
       "      <td>high activity customer</td>\n",
       "      <td>2</td>\n",
       "      <td>8</td>\n",
       "      <td>19</td>\n",
       "      <td>4.4</td>\n",
       "      <td>Low-range product</td>\n",
       "      <td>Regularly busy</td>\n",
       "      <td>Average orders</td>\n",
       "      <td>South</td>\n",
       "    </tr>\n",
       "    <tr>\n",
       "      <th>12</th>\n",
       "      <td>Female</td>\n",
       "      <td>Alabama</td>\n",
       "      <td>31</td>\n",
       "      <td>3</td>\n",
       "      <td>married</td>\n",
       "      <td>40423</td>\n",
       "      <td>2</td>\n",
       "      <td>New customer</td>\n",
       "      <td>Low spender</td>\n",
       "      <td>Non-frequent customer</td>\n",
       "      <td>high activity customer</td>\n",
       "      <td>3</td>\n",
       "      <td>7</td>\n",
       "      <td>19</td>\n",
       "      <td>4.4</td>\n",
       "      <td>Low-range product</td>\n",
       "      <td>Regularly busy</td>\n",
       "      <td>Average orders</td>\n",
       "      <td>South</td>\n",
       "    </tr>\n",
       "    <tr>\n",
       "      <th>17</th>\n",
       "      <td>Female</td>\n",
       "      <td>Alabama</td>\n",
       "      <td>31</td>\n",
       "      <td>3</td>\n",
       "      <td>married</td>\n",
       "      <td>40423</td>\n",
       "      <td>7</td>\n",
       "      <td>New customer</td>\n",
       "      <td>Low spender</td>\n",
       "      <td>Non-frequent customer</td>\n",
       "      <td>high activity customer</td>\n",
       "      <td>1</td>\n",
       "      <td>9</td>\n",
       "      <td>19</td>\n",
       "      <td>4.4</td>\n",
       "      <td>Low-range product</td>\n",
       "      <td>Regularly busy</td>\n",
       "      <td>Most orders</td>\n",
       "      <td>South</td>\n",
       "    </tr>\n",
       "  </tbody>\n",
       "</table>\n",
       "</div>"
      ],
      "text/plain": [
       "    Gender    State  Age  n_dependants fam_status  income  order_number  \\\n",
       "4   Female  Alabama   31             3    married   40423             5   \n",
       "5   Female  Alabama   31             3    married   40423             6   \n",
       "11  Female  Alabama   31             3    married   40423             1   \n",
       "12  Female  Alabama   31             3    married   40423             2   \n",
       "17  Female  Alabama   31             3    married   40423             7   \n",
       "\n",
       "    loyalty_flag spending_flag   order_frequency_flag           activity_flag  \\\n",
       "4   New customer   Low spender  Non-frequent customer  high activity customer   \n",
       "5   New customer   Low spender  Non-frequent customer  high activity customer   \n",
       "11  New customer   Low spender  Non-frequent customer  high activity customer   \n",
       "12  New customer   Low spender  Non-frequent customer  high activity customer   \n",
       "17  New customer   Low spender  Non-frequent customer  high activity customer   \n",
       "\n",
       "    orders_day_of_week  order_hour_of_day  department_id  prices  \\\n",
       "4                    4                 15              7     9.0   \n",
       "5                    2                  7              7     9.0   \n",
       "11                   2                  8             19     4.4   \n",
       "12                   3                  7             19     4.4   \n",
       "17                   1                  9             19     4.4   \n",
       "\n",
       "          price_range     busiest_day busiest_period_of_day region  \n",
       "4   Mid-range product      Least busy           Most orders  South  \n",
       "5   Mid-range product  Regularly busy        Average orders  South  \n",
       "11  Low-range product  Regularly busy        Average orders  South  \n",
       "12  Low-range product  Regularly busy        Average orders  South  \n",
       "17  Low-range product  Regularly busy           Most orders  South  "
      ]
     },
     "execution_count": 13,
     "metadata": {},
     "output_type": "execute_result"
    }
   ],
   "source": [
    "# Check output\n",
    "\n",
    "df_final_subset.head()"
   ]
  },
  {
   "cell_type": "code",
   "execution_count": 14,
   "id": "084ab243",
   "metadata": {},
   "outputs": [
    {
     "data": {
      "text/plain": [
       "(9722678, 19)"
      ]
     },
     "execution_count": 14,
     "metadata": {},
     "output_type": "execute_result"
    }
   ],
   "source": [
    "# Check shape\n",
    "\n",
    "df_final_subset.shape"
   ]
  },
  {
   "cell_type": "markdown",
   "id": "8bb8dc70",
   "metadata": {},
   "source": [
    "## 3. Assign Departments to departmnet id"
   ]
  },
  {
   "cell_type": "code",
   "execution_count": 15,
   "id": "e8cc17bb",
   "metadata": {},
   "outputs": [],
   "source": [
    "# Import departments data\n",
    "\n",
    "df_depts = pd.read_csv(os.path.join(path, '02 Data', 'Prepared Data', 'departments_wrangled.csv'), index_col= 0)"
   ]
  },
  {
   "cell_type": "code",
   "execution_count": 16,
   "id": "69704ed6",
   "metadata": {},
   "outputs": [
    {
     "data": {
      "text/html": [
       "<div>\n",
       "<style scoped>\n",
       "    .dataframe tbody tr th:only-of-type {\n",
       "        vertical-align: middle;\n",
       "    }\n",
       "\n",
       "    .dataframe tbody tr th {\n",
       "        vertical-align: top;\n",
       "    }\n",
       "\n",
       "    .dataframe thead th {\n",
       "        text-align: right;\n",
       "    }\n",
       "</style>\n",
       "<table border=\"1\" class=\"dataframe\">\n",
       "  <thead>\n",
       "    <tr style=\"text-align: right;\">\n",
       "      <th></th>\n",
       "      <th>department</th>\n",
       "    </tr>\n",
       "  </thead>\n",
       "  <tbody>\n",
       "    <tr>\n",
       "      <th>1</th>\n",
       "      <td>frozen</td>\n",
       "    </tr>\n",
       "    <tr>\n",
       "      <th>2</th>\n",
       "      <td>other</td>\n",
       "    </tr>\n",
       "    <tr>\n",
       "      <th>3</th>\n",
       "      <td>bakery</td>\n",
       "    </tr>\n",
       "    <tr>\n",
       "      <th>4</th>\n",
       "      <td>produce</td>\n",
       "    </tr>\n",
       "    <tr>\n",
       "      <th>5</th>\n",
       "      <td>alcohol</td>\n",
       "    </tr>\n",
       "  </tbody>\n",
       "</table>\n",
       "</div>"
      ],
      "text/plain": [
       "  department\n",
       "1     frozen\n",
       "2      other\n",
       "3     bakery\n",
       "4    produce\n",
       "5    alcohol"
      ]
     },
     "execution_count": 16,
     "metadata": {},
     "output_type": "execute_result"
    }
   ],
   "source": [
    "# Check output\n",
    "\n",
    "df_depts.head()"
   ]
  },
  {
   "cell_type": "code",
   "execution_count": 17,
   "id": "b4c9775f",
   "metadata": {},
   "outputs": [],
   "source": [
    "# Create data dictionary for values in the \"department_id\" column\n",
    "\n",
    "data_dict = df_depts.to_dict('index')\n"
   ]
  },
  {
   "cell_type": "code",
   "execution_count": 18,
   "id": "e7be883d",
   "metadata": {},
   "outputs": [
    {
     "data": {
      "text/plain": [
       "{1: {'department': 'frozen'},\n",
       " 2: {'department': 'other'},\n",
       " 3: {'department': 'bakery'},\n",
       " 4: {'department': 'produce'},\n",
       " 5: {'department': 'alcohol'},\n",
       " 6: {'department': 'international'},\n",
       " 7: {'department': 'beverages'},\n",
       " 8: {'department': 'pets'},\n",
       " 9: {'department': 'dry goods pasta'},\n",
       " 10: {'department': 'bulk'},\n",
       " 11: {'department': 'personal care'},\n",
       " 12: {'department': 'meat seafood'},\n",
       " 13: {'department': 'pantry'},\n",
       " 14: {'department': 'breakfast'},\n",
       " 15: {'department': 'canned goods'},\n",
       " 16: {'department': 'dairy eggs'},\n",
       " 17: {'department': 'household'},\n",
       " 18: {'department': 'babies'},\n",
       " 19: {'department': 'snacks'},\n",
       " 20: {'department': 'deli'},\n",
       " 21: {'department': 'missing'}}"
      ]
     },
     "execution_count": 18,
     "metadata": {},
     "output_type": "execute_result"
    }
   ],
   "source": [
    "data_dict"
   ]
  },
  {
   "cell_type": "code",
   "execution_count": 19,
   "id": "0bd381a0",
   "metadata": {},
   "outputs": [
    {
     "name": "stderr",
     "output_type": "stream",
     "text": [
      "C:\\Users\\cook family\\AppData\\Local\\Temp\\ipykernel_10148\\2919222338.py:3: SettingWithCopyWarning: \n",
      "A value is trying to be set on a copy of a slice from a DataFrame.\n",
      "Try using .loc[row_indexer,col_indexer] = value instead\n",
      "\n",
      "See the caveats in the documentation: https://pandas.pydata.org/pandas-docs/stable/user_guide/indexing.html#returning-a-view-versus-a-copy\n",
      "  df_final_subset.loc[df_final_subset['department_id'] == 1, 'department'] = 'frozen'\n"
     ]
    }
   ],
   "source": [
    "# Assign department_id values using data dictionary\n",
    "\n",
    "df_final_subset.loc[df_final_subset['department_id'] == 1, 'department'] = 'frozen'"
   ]
  },
  {
   "cell_type": "code",
   "execution_count": 20,
   "id": "be0d8181",
   "metadata": {},
   "outputs": [],
   "source": [
    "df_final_subset.loc[df_final_subset['department_id'] == 2, 'department'] = 'other'"
   ]
  },
  {
   "cell_type": "code",
   "execution_count": 21,
   "id": "1b9b8d1a",
   "metadata": {},
   "outputs": [],
   "source": [
    "df_final_subset.loc[df_final_subset['department_id'] == 3, 'department'] = 'bakery'"
   ]
  },
  {
   "cell_type": "code",
   "execution_count": 22,
   "id": "9bb3cfd3",
   "metadata": {},
   "outputs": [],
   "source": [
    "df_final_subset.loc[df_final_subset['department_id'] == 4, 'department'] = 'produce'"
   ]
  },
  {
   "cell_type": "code",
   "execution_count": 23,
   "id": "992d1bd4",
   "metadata": {},
   "outputs": [],
   "source": [
    "df_final_subset.loc[df_final_subset['department_id'] == 5, 'department'] = 'alcohol'"
   ]
  },
  {
   "cell_type": "code",
   "execution_count": 24,
   "id": "ff3ebfb9",
   "metadata": {},
   "outputs": [],
   "source": [
    "df_final_subset.loc[df_final_subset['department_id'] == 6, 'department'] = 'international'"
   ]
  },
  {
   "cell_type": "code",
   "execution_count": 25,
   "id": "b8107616",
   "metadata": {},
   "outputs": [],
   "source": [
    "df_final_subset.loc[df_final_subset['department_id'] == 7, 'department'] = 'beverages'"
   ]
  },
  {
   "cell_type": "code",
   "execution_count": 26,
   "id": "6a72217a",
   "metadata": {},
   "outputs": [],
   "source": [
    "df_final_subset.loc[df_final_subset['department_id'] == 8, 'department'] = 'pets'"
   ]
  },
  {
   "cell_type": "code",
   "execution_count": 27,
   "id": "0584a1f5",
   "metadata": {},
   "outputs": [],
   "source": [
    "df_final_subset.loc[df_final_subset['department_id'] == 9, 'department'] = 'dry goods pasta'"
   ]
  },
  {
   "cell_type": "code",
   "execution_count": 28,
   "id": "2c9b4d9e",
   "metadata": {},
   "outputs": [],
   "source": [
    "df_final_subset.loc[df_final_subset['department_id'] == 10, 'department'] = 'bulk'"
   ]
  },
  {
   "cell_type": "code",
   "execution_count": 29,
   "id": "6cd9d408",
   "metadata": {},
   "outputs": [],
   "source": [
    "df_final_subset.loc[df_final_subset['department_id'] == 11, 'department'] = 'personal care'"
   ]
  },
  {
   "cell_type": "code",
   "execution_count": 30,
   "id": "dd8ae8e9",
   "metadata": {},
   "outputs": [],
   "source": [
    "df_final_subset.loc[df_final_subset['department_id'] == 12, 'department'] = 'meat seafood'"
   ]
  },
  {
   "cell_type": "code",
   "execution_count": 31,
   "id": "f106f8a2",
   "metadata": {},
   "outputs": [],
   "source": [
    "df_final_subset.loc[df_final_subset['department_id'] == 13, 'department'] = 'pantry'"
   ]
  },
  {
   "cell_type": "code",
   "execution_count": 32,
   "id": "e4b94baf",
   "metadata": {},
   "outputs": [],
   "source": [
    "df_final_subset.loc[df_final_subset['department_id'] == 14, 'department'] = 'breakfast'"
   ]
  },
  {
   "cell_type": "code",
   "execution_count": 33,
   "id": "0adc9fd3",
   "metadata": {},
   "outputs": [],
   "source": [
    "df_final_subset.loc[df_final_subset['department_id'] == 15, 'department'] = 'canned goods'"
   ]
  },
  {
   "cell_type": "code",
   "execution_count": 34,
   "id": "9a3ef6e0",
   "metadata": {},
   "outputs": [],
   "source": [
    "df_final_subset.loc[df_final_subset['department_id'] == 16, 'department'] = 'dairy eggs'"
   ]
  },
  {
   "cell_type": "code",
   "execution_count": 35,
   "id": "a2f2cdf8",
   "metadata": {},
   "outputs": [],
   "source": [
    "df_final_subset.loc[df_final_subset['department_id'] == 17, 'department'] = 'household'"
   ]
  },
  {
   "cell_type": "code",
   "execution_count": 36,
   "id": "c0fe4b98",
   "metadata": {},
   "outputs": [],
   "source": [
    "df_final_subset.loc[df_final_subset['department_id'] == 18, 'department'] = 'babies'"
   ]
  },
  {
   "cell_type": "code",
   "execution_count": 37,
   "id": "0da48db1",
   "metadata": {},
   "outputs": [],
   "source": [
    "df_final_subset.loc[df_final_subset['department_id'] == 19, 'department'] = 'snacks'"
   ]
  },
  {
   "cell_type": "code",
   "execution_count": 38,
   "id": "29f290c3",
   "metadata": {},
   "outputs": [],
   "source": [
    "df_final_subset.loc[df_final_subset['department_id'] == 20, 'department'] = 'deli'"
   ]
  },
  {
   "cell_type": "code",
   "execution_count": 39,
   "id": "0d4c2848",
   "metadata": {},
   "outputs": [],
   "source": [
    "df_final_subset.loc[df_final_subset['department_id'] == 21, 'department'] = 'missing'"
   ]
  },
  {
   "cell_type": "code",
   "execution_count": 40,
   "id": "772ee5b1",
   "metadata": {},
   "outputs": [
    {
     "data": {
      "text/plain": [
       "produce            2846540\n",
       "dairy eggs         1620128\n",
       "snacks              866441\n",
       "beverages           805402\n",
       "frozen              671003\n",
       "pantry              563513\n",
       "bakery              350999\n",
       "canned goods        320377\n",
       "deli                314829\n",
       "dry goods pasta     260205\n",
       "household           220842\n",
       "meat seafood        212222\n",
       "breakfast           210584\n",
       "personal care       134244\n",
       "babies              127170\n",
       "international        80710\n",
       "alcohol              46020\n",
       "pets                 29162\n",
       "missing              21002\n",
       "other                11004\n",
       "bulk                 10281\n",
       "Name: department, dtype: int64"
      ]
     },
     "execution_count": 40,
     "metadata": {},
     "output_type": "execute_result"
    }
   ],
   "source": [
    "# Check frequency \n",
    "\n",
    "df_final_subset['department'].value_counts(dropna=False)"
   ]
  },
  {
   "cell_type": "code",
   "execution_count": 41,
   "id": "ef18203c",
   "metadata": {},
   "outputs": [
    {
     "data": {
      "text/plain": [
       "(9722678,)"
      ]
     },
     "execution_count": 41,
     "metadata": {},
     "output_type": "execute_result"
    }
   ],
   "source": [
    "# Check the shape \n",
    "\n",
    "df_final_subset['department'].shape"
   ]
  },
  {
   "cell_type": "code",
   "execution_count": 42,
   "id": "620d29c6",
   "metadata": {},
   "outputs": [
    {
     "data": {
      "text/html": [
       "<div>\n",
       "<style scoped>\n",
       "    .dataframe tbody tr th:only-of-type {\n",
       "        vertical-align: middle;\n",
       "    }\n",
       "\n",
       "    .dataframe tbody tr th {\n",
       "        vertical-align: top;\n",
       "    }\n",
       "\n",
       "    .dataframe thead th {\n",
       "        text-align: right;\n",
       "    }\n",
       "</style>\n",
       "<table border=\"1\" class=\"dataframe\">\n",
       "  <thead>\n",
       "    <tr style=\"text-align: right;\">\n",
       "      <th></th>\n",
       "      <th>Gender</th>\n",
       "      <th>State</th>\n",
       "      <th>Age</th>\n",
       "      <th>n_dependants</th>\n",
       "      <th>fam_status</th>\n",
       "      <th>income</th>\n",
       "      <th>order_number</th>\n",
       "      <th>loyalty_flag</th>\n",
       "      <th>spending_flag</th>\n",
       "      <th>order_frequency_flag</th>\n",
       "      <th>activity_flag</th>\n",
       "      <th>orders_day_of_week</th>\n",
       "      <th>order_hour_of_day</th>\n",
       "      <th>department_id</th>\n",
       "      <th>prices</th>\n",
       "      <th>price_range</th>\n",
       "      <th>busiest_day</th>\n",
       "      <th>busiest_period_of_day</th>\n",
       "      <th>region</th>\n",
       "      <th>department</th>\n",
       "    </tr>\n",
       "  </thead>\n",
       "  <tbody>\n",
       "    <tr>\n",
       "      <th>4</th>\n",
       "      <td>Female</td>\n",
       "      <td>Alabama</td>\n",
       "      <td>31</td>\n",
       "      <td>3</td>\n",
       "      <td>married</td>\n",
       "      <td>40423</td>\n",
       "      <td>5</td>\n",
       "      <td>New customer</td>\n",
       "      <td>Low spender</td>\n",
       "      <td>Non-frequent customer</td>\n",
       "      <td>high activity customer</td>\n",
       "      <td>4</td>\n",
       "      <td>15</td>\n",
       "      <td>7</td>\n",
       "      <td>9.0</td>\n",
       "      <td>Mid-range product</td>\n",
       "      <td>Least busy</td>\n",
       "      <td>Most orders</td>\n",
       "      <td>South</td>\n",
       "      <td>beverages</td>\n",
       "    </tr>\n",
       "    <tr>\n",
       "      <th>5</th>\n",
       "      <td>Female</td>\n",
       "      <td>Alabama</td>\n",
       "      <td>31</td>\n",
       "      <td>3</td>\n",
       "      <td>married</td>\n",
       "      <td>40423</td>\n",
       "      <td>6</td>\n",
       "      <td>New customer</td>\n",
       "      <td>Low spender</td>\n",
       "      <td>Non-frequent customer</td>\n",
       "      <td>high activity customer</td>\n",
       "      <td>2</td>\n",
       "      <td>7</td>\n",
       "      <td>7</td>\n",
       "      <td>9.0</td>\n",
       "      <td>Mid-range product</td>\n",
       "      <td>Regularly busy</td>\n",
       "      <td>Average orders</td>\n",
       "      <td>South</td>\n",
       "      <td>beverages</td>\n",
       "    </tr>\n",
       "    <tr>\n",
       "      <th>11</th>\n",
       "      <td>Female</td>\n",
       "      <td>Alabama</td>\n",
       "      <td>31</td>\n",
       "      <td>3</td>\n",
       "      <td>married</td>\n",
       "      <td>40423</td>\n",
       "      <td>1</td>\n",
       "      <td>New customer</td>\n",
       "      <td>Low spender</td>\n",
       "      <td>Non-frequent customer</td>\n",
       "      <td>high activity customer</td>\n",
       "      <td>2</td>\n",
       "      <td>8</td>\n",
       "      <td>19</td>\n",
       "      <td>4.4</td>\n",
       "      <td>Low-range product</td>\n",
       "      <td>Regularly busy</td>\n",
       "      <td>Average orders</td>\n",
       "      <td>South</td>\n",
       "      <td>snacks</td>\n",
       "    </tr>\n",
       "    <tr>\n",
       "      <th>12</th>\n",
       "      <td>Female</td>\n",
       "      <td>Alabama</td>\n",
       "      <td>31</td>\n",
       "      <td>3</td>\n",
       "      <td>married</td>\n",
       "      <td>40423</td>\n",
       "      <td>2</td>\n",
       "      <td>New customer</td>\n",
       "      <td>Low spender</td>\n",
       "      <td>Non-frequent customer</td>\n",
       "      <td>high activity customer</td>\n",
       "      <td>3</td>\n",
       "      <td>7</td>\n",
       "      <td>19</td>\n",
       "      <td>4.4</td>\n",
       "      <td>Low-range product</td>\n",
       "      <td>Regularly busy</td>\n",
       "      <td>Average orders</td>\n",
       "      <td>South</td>\n",
       "      <td>snacks</td>\n",
       "    </tr>\n",
       "    <tr>\n",
       "      <th>17</th>\n",
       "      <td>Female</td>\n",
       "      <td>Alabama</td>\n",
       "      <td>31</td>\n",
       "      <td>3</td>\n",
       "      <td>married</td>\n",
       "      <td>40423</td>\n",
       "      <td>7</td>\n",
       "      <td>New customer</td>\n",
       "      <td>Low spender</td>\n",
       "      <td>Non-frequent customer</td>\n",
       "      <td>high activity customer</td>\n",
       "      <td>1</td>\n",
       "      <td>9</td>\n",
       "      <td>19</td>\n",
       "      <td>4.4</td>\n",
       "      <td>Low-range product</td>\n",
       "      <td>Regularly busy</td>\n",
       "      <td>Most orders</td>\n",
       "      <td>South</td>\n",
       "      <td>snacks</td>\n",
       "    </tr>\n",
       "  </tbody>\n",
       "</table>\n",
       "</div>"
      ],
      "text/plain": [
       "    Gender    State  Age  n_dependants fam_status  income  order_number  \\\n",
       "4   Female  Alabama   31             3    married   40423             5   \n",
       "5   Female  Alabama   31             3    married   40423             6   \n",
       "11  Female  Alabama   31             3    married   40423             1   \n",
       "12  Female  Alabama   31             3    married   40423             2   \n",
       "17  Female  Alabama   31             3    married   40423             7   \n",
       "\n",
       "    loyalty_flag spending_flag   order_frequency_flag           activity_flag  \\\n",
       "4   New customer   Low spender  Non-frequent customer  high activity customer   \n",
       "5   New customer   Low spender  Non-frequent customer  high activity customer   \n",
       "11  New customer   Low spender  Non-frequent customer  high activity customer   \n",
       "12  New customer   Low spender  Non-frequent customer  high activity customer   \n",
       "17  New customer   Low spender  Non-frequent customer  high activity customer   \n",
       "\n",
       "    orders_day_of_week  order_hour_of_day  department_id  prices  \\\n",
       "4                    4                 15              7     9.0   \n",
       "5                    2                  7              7     9.0   \n",
       "11                   2                  8             19     4.4   \n",
       "12                   3                  7             19     4.4   \n",
       "17                   1                  9             19     4.4   \n",
       "\n",
       "          price_range     busiest_day busiest_period_of_day region department  \n",
       "4   Mid-range product      Least busy           Most orders  South  beverages  \n",
       "5   Mid-range product  Regularly busy        Average orders  South  beverages  \n",
       "11  Low-range product  Regularly busy        Average orders  South     snacks  \n",
       "12  Low-range product  Regularly busy        Average orders  South     snacks  \n",
       "17  Low-range product  Regularly busy           Most orders  South     snacks  "
      ]
     },
     "execution_count": 42,
     "metadata": {},
     "output_type": "execute_result"
    }
   ],
   "source": [
    "# Check output\n",
    "\n",
    "df_final_subset.head()"
   ]
  },
  {
   "cell_type": "markdown",
   "id": "9db08580",
   "metadata": {},
   "source": [
    "## 4. Create age groups"
   ]
  },
  {
   "cell_type": "code",
   "execution_count": 43,
   "id": "ec7dea8a",
   "metadata": {},
   "outputs": [
    {
     "name": "stderr",
     "output_type": "stream",
     "text": [
      "C:\\Users\\cook family\\AppData\\Local\\Temp\\ipykernel_10148\\1360388485.py:3: SettingWithCopyWarning: \n",
      "A value is trying to be set on a copy of a slice from a DataFrame.\n",
      "Try using .loc[row_indexer,col_indexer] = value instead\n",
      "\n",
      "See the caveats in the documentation: https://pandas.pydata.org/pandas-docs/stable/user_guide/indexing.html#returning-a-view-versus-a-copy\n",
      "  df_final_subset.loc[(df_final_subset['Age'] <= 16) & (df_final_subset['Age'] >=0), 'Age_group'] = 'Child'\n"
     ]
    }
   ],
   "source": [
    "# Assign age groups\n",
    "\n",
    "df_final_subset.loc[(df_final_subset['Age'] <= 16) & (df_final_subset['Age'] >=0), 'Age_group'] = 'Child'"
   ]
  },
  {
   "cell_type": "code",
   "execution_count": 44,
   "id": "e5ef3f2d",
   "metadata": {},
   "outputs": [],
   "source": [
    "df_final_subset.loc[(df_final_subset['Age'] <= 30) & (df_final_subset['Age'] >=17), 'Age_group'] = 'Young Adults'"
   ]
  },
  {
   "cell_type": "code",
   "execution_count": 45,
   "id": "138cf77b",
   "metadata": {},
   "outputs": [],
   "source": [
    "df_final_subset.loc[(df_final_subset['Age'] <= 45) & (df_final_subset['Age'] >=31), 'Age_group'] = 'Middle Aged Adults'"
   ]
  },
  {
   "cell_type": "code",
   "execution_count": 46,
   "id": "c346318a",
   "metadata": {},
   "outputs": [],
   "source": [
    "df_final_subset.loc[df_final_subset['Age'] > 45, 'Age_group'] = 'Old Adults'"
   ]
  },
  {
   "cell_type": "code",
   "execution_count": 47,
   "id": "a19f41e2",
   "metadata": {},
   "outputs": [
    {
     "data": {
      "text/plain": [
       "Old Adults            5461364\n",
       "Middle Aged Adults    2280586\n",
       "Young Adults          1980728\n",
       "Name: Age_group, dtype: int64"
      ]
     },
     "execution_count": 47,
     "metadata": {},
     "output_type": "execute_result"
    }
   ],
   "source": [
    "# Check frequency \n",
    "\n",
    "df_final_subset['Age_group'].value_counts(dropna=False)"
   ]
  },
  {
   "cell_type": "code",
   "execution_count": 48,
   "id": "d8d95648",
   "metadata": {},
   "outputs": [
    {
     "data": {
      "text/plain": [
       "(9722678,)"
      ]
     },
     "execution_count": 48,
     "metadata": {},
     "output_type": "execute_result"
    }
   ],
   "source": [
    "# Check the shape \n",
    "\n",
    "df_final_subset['Age_group'].shape"
   ]
  },
  {
   "cell_type": "code",
   "execution_count": 49,
   "id": "bc37b385",
   "metadata": {},
   "outputs": [
    {
     "data": {
      "text/html": [
       "<div>\n",
       "<style scoped>\n",
       "    .dataframe tbody tr th:only-of-type {\n",
       "        vertical-align: middle;\n",
       "    }\n",
       "\n",
       "    .dataframe tbody tr th {\n",
       "        vertical-align: top;\n",
       "    }\n",
       "\n",
       "    .dataframe thead th {\n",
       "        text-align: right;\n",
       "    }\n",
       "</style>\n",
       "<table border=\"1\" class=\"dataframe\">\n",
       "  <thead>\n",
       "    <tr style=\"text-align: right;\">\n",
       "      <th></th>\n",
       "      <th>Gender</th>\n",
       "      <th>State</th>\n",
       "      <th>Age</th>\n",
       "      <th>n_dependants</th>\n",
       "      <th>fam_status</th>\n",
       "      <th>income</th>\n",
       "      <th>order_number</th>\n",
       "      <th>loyalty_flag</th>\n",
       "      <th>spending_flag</th>\n",
       "      <th>order_frequency_flag</th>\n",
       "      <th>...</th>\n",
       "      <th>orders_day_of_week</th>\n",
       "      <th>order_hour_of_day</th>\n",
       "      <th>department_id</th>\n",
       "      <th>prices</th>\n",
       "      <th>price_range</th>\n",
       "      <th>busiest_day</th>\n",
       "      <th>busiest_period_of_day</th>\n",
       "      <th>region</th>\n",
       "      <th>department</th>\n",
       "      <th>Age_group</th>\n",
       "    </tr>\n",
       "  </thead>\n",
       "  <tbody>\n",
       "    <tr>\n",
       "      <th>4</th>\n",
       "      <td>Female</td>\n",
       "      <td>Alabama</td>\n",
       "      <td>31</td>\n",
       "      <td>3</td>\n",
       "      <td>married</td>\n",
       "      <td>40423</td>\n",
       "      <td>5</td>\n",
       "      <td>New customer</td>\n",
       "      <td>Low spender</td>\n",
       "      <td>Non-frequent customer</td>\n",
       "      <td>...</td>\n",
       "      <td>4</td>\n",
       "      <td>15</td>\n",
       "      <td>7</td>\n",
       "      <td>9.0</td>\n",
       "      <td>Mid-range product</td>\n",
       "      <td>Least busy</td>\n",
       "      <td>Most orders</td>\n",
       "      <td>South</td>\n",
       "      <td>beverages</td>\n",
       "      <td>Middle Aged Adults</td>\n",
       "    </tr>\n",
       "    <tr>\n",
       "      <th>5</th>\n",
       "      <td>Female</td>\n",
       "      <td>Alabama</td>\n",
       "      <td>31</td>\n",
       "      <td>3</td>\n",
       "      <td>married</td>\n",
       "      <td>40423</td>\n",
       "      <td>6</td>\n",
       "      <td>New customer</td>\n",
       "      <td>Low spender</td>\n",
       "      <td>Non-frequent customer</td>\n",
       "      <td>...</td>\n",
       "      <td>2</td>\n",
       "      <td>7</td>\n",
       "      <td>7</td>\n",
       "      <td>9.0</td>\n",
       "      <td>Mid-range product</td>\n",
       "      <td>Regularly busy</td>\n",
       "      <td>Average orders</td>\n",
       "      <td>South</td>\n",
       "      <td>beverages</td>\n",
       "      <td>Middle Aged Adults</td>\n",
       "    </tr>\n",
       "    <tr>\n",
       "      <th>11</th>\n",
       "      <td>Female</td>\n",
       "      <td>Alabama</td>\n",
       "      <td>31</td>\n",
       "      <td>3</td>\n",
       "      <td>married</td>\n",
       "      <td>40423</td>\n",
       "      <td>1</td>\n",
       "      <td>New customer</td>\n",
       "      <td>Low spender</td>\n",
       "      <td>Non-frequent customer</td>\n",
       "      <td>...</td>\n",
       "      <td>2</td>\n",
       "      <td>8</td>\n",
       "      <td>19</td>\n",
       "      <td>4.4</td>\n",
       "      <td>Low-range product</td>\n",
       "      <td>Regularly busy</td>\n",
       "      <td>Average orders</td>\n",
       "      <td>South</td>\n",
       "      <td>snacks</td>\n",
       "      <td>Middle Aged Adults</td>\n",
       "    </tr>\n",
       "    <tr>\n",
       "      <th>12</th>\n",
       "      <td>Female</td>\n",
       "      <td>Alabama</td>\n",
       "      <td>31</td>\n",
       "      <td>3</td>\n",
       "      <td>married</td>\n",
       "      <td>40423</td>\n",
       "      <td>2</td>\n",
       "      <td>New customer</td>\n",
       "      <td>Low spender</td>\n",
       "      <td>Non-frequent customer</td>\n",
       "      <td>...</td>\n",
       "      <td>3</td>\n",
       "      <td>7</td>\n",
       "      <td>19</td>\n",
       "      <td>4.4</td>\n",
       "      <td>Low-range product</td>\n",
       "      <td>Regularly busy</td>\n",
       "      <td>Average orders</td>\n",
       "      <td>South</td>\n",
       "      <td>snacks</td>\n",
       "      <td>Middle Aged Adults</td>\n",
       "    </tr>\n",
       "    <tr>\n",
       "      <th>17</th>\n",
       "      <td>Female</td>\n",
       "      <td>Alabama</td>\n",
       "      <td>31</td>\n",
       "      <td>3</td>\n",
       "      <td>married</td>\n",
       "      <td>40423</td>\n",
       "      <td>7</td>\n",
       "      <td>New customer</td>\n",
       "      <td>Low spender</td>\n",
       "      <td>Non-frequent customer</td>\n",
       "      <td>...</td>\n",
       "      <td>1</td>\n",
       "      <td>9</td>\n",
       "      <td>19</td>\n",
       "      <td>4.4</td>\n",
       "      <td>Low-range product</td>\n",
       "      <td>Regularly busy</td>\n",
       "      <td>Most orders</td>\n",
       "      <td>South</td>\n",
       "      <td>snacks</td>\n",
       "      <td>Middle Aged Adults</td>\n",
       "    </tr>\n",
       "  </tbody>\n",
       "</table>\n",
       "<p>5 rows × 21 columns</p>\n",
       "</div>"
      ],
      "text/plain": [
       "    Gender    State  Age  n_dependants fam_status  income  order_number  \\\n",
       "4   Female  Alabama   31             3    married   40423             5   \n",
       "5   Female  Alabama   31             3    married   40423             6   \n",
       "11  Female  Alabama   31             3    married   40423             1   \n",
       "12  Female  Alabama   31             3    married   40423             2   \n",
       "17  Female  Alabama   31             3    married   40423             7   \n",
       "\n",
       "    loyalty_flag spending_flag   order_frequency_flag  ... orders_day_of_week  \\\n",
       "4   New customer   Low spender  Non-frequent customer  ...                  4   \n",
       "5   New customer   Low spender  Non-frequent customer  ...                  2   \n",
       "11  New customer   Low spender  Non-frequent customer  ...                  2   \n",
       "12  New customer   Low spender  Non-frequent customer  ...                  3   \n",
       "17  New customer   Low spender  Non-frequent customer  ...                  1   \n",
       "\n",
       "    order_hour_of_day  department_id  prices        price_range  \\\n",
       "4                  15              7     9.0  Mid-range product   \n",
       "5                   7              7     9.0  Mid-range product   \n",
       "11                  8             19     4.4  Low-range product   \n",
       "12                  7             19     4.4  Low-range product   \n",
       "17                  9             19     4.4  Low-range product   \n",
       "\n",
       "       busiest_day busiest_period_of_day region department           Age_group  \n",
       "4       Least busy           Most orders  South  beverages  Middle Aged Adults  \n",
       "5   Regularly busy        Average orders  South  beverages  Middle Aged Adults  \n",
       "11  Regularly busy        Average orders  South     snacks  Middle Aged Adults  \n",
       "12  Regularly busy        Average orders  South     snacks  Middle Aged Adults  \n",
       "17  Regularly busy           Most orders  South     snacks  Middle Aged Adults  \n",
       "\n",
       "[5 rows x 21 columns]"
      ]
     },
     "execution_count": 49,
     "metadata": {},
     "output_type": "execute_result"
    }
   ],
   "source": [
    "# Check output\n",
    "\n",
    "df_final_subset.head()"
   ]
  },
  {
   "cell_type": "markdown",
   "id": "acbe52e5",
   "metadata": {},
   "source": [
    "## 5 Create income groups"
   ]
  },
  {
   "cell_type": "code",
   "execution_count": 50,
   "id": "b405b60d",
   "metadata": {},
   "outputs": [
    {
     "name": "stderr",
     "output_type": "stream",
     "text": [
      "C:\\Users\\cook family\\AppData\\Local\\Temp\\ipykernel_10148\\2312493979.py:3: SettingWithCopyWarning: \n",
      "A value is trying to be set on a copy of a slice from a DataFrame.\n",
      "Try using .loc[row_indexer,col_indexer] = value instead\n",
      "\n",
      "See the caveats in the documentation: https://pandas.pydata.org/pandas-docs/stable/user_guide/indexing.html#returning-a-view-versus-a-copy\n",
      "  df_final_subset.loc[df_final_subset['income'] < 43350, 'income_group'] = 'Low Income'\n"
     ]
    }
   ],
   "source": [
    "# Assign income groups\n",
    "\n",
    "df_final_subset.loc[df_final_subset['income'] < 43350, 'income_group'] = 'Low Income'"
   ]
  },
  {
   "cell_type": "code",
   "execution_count": 51,
   "id": "4a9ffb4a",
   "metadata": {},
   "outputs": [],
   "source": [
    "df_final_subset.loc[(df_final_subset['income'] <= 130000) & (df_final_subset['income'] >=43350), 'income_group'] = 'Middle Income'"
   ]
  },
  {
   "cell_type": "code",
   "execution_count": 52,
   "id": "285b45e8",
   "metadata": {},
   "outputs": [],
   "source": [
    "df_final_subset.loc[df_final_subset['income'] > 130000, 'income_group'] = 'Upper Income'"
   ]
  },
  {
   "cell_type": "code",
   "execution_count": 53,
   "id": "b2a1adef",
   "metadata": {},
   "outputs": [
    {
     "data": {
      "text/plain": [
       "Middle Income    6710837\n",
       "Upper Income     2314759\n",
       "Low Income        697082\n",
       "Name: income_group, dtype: int64"
      ]
     },
     "execution_count": 53,
     "metadata": {},
     "output_type": "execute_result"
    }
   ],
   "source": [
    "# Check frequency \n",
    "\n",
    "df_final_subset['income_group'].value_counts(dropna=False)"
   ]
  },
  {
   "cell_type": "code",
   "execution_count": 54,
   "id": "ace8c048",
   "metadata": {},
   "outputs": [
    {
     "data": {
      "text/plain": [
       "(9722678,)"
      ]
     },
     "execution_count": 54,
     "metadata": {},
     "output_type": "execute_result"
    }
   ],
   "source": [
    "# Check the shape \n",
    "\n",
    "df_final_subset['income_group'].shape"
   ]
  },
  {
   "cell_type": "code",
   "execution_count": 55,
   "id": "d03e7bb1",
   "metadata": {},
   "outputs": [
    {
     "data": {
      "text/html": [
       "<div>\n",
       "<style scoped>\n",
       "    .dataframe tbody tr th:only-of-type {\n",
       "        vertical-align: middle;\n",
       "    }\n",
       "\n",
       "    .dataframe tbody tr th {\n",
       "        vertical-align: top;\n",
       "    }\n",
       "\n",
       "    .dataframe thead th {\n",
       "        text-align: right;\n",
       "    }\n",
       "</style>\n",
       "<table border=\"1\" class=\"dataframe\">\n",
       "  <thead>\n",
       "    <tr style=\"text-align: right;\">\n",
       "      <th></th>\n",
       "      <th>Gender</th>\n",
       "      <th>State</th>\n",
       "      <th>Age</th>\n",
       "      <th>n_dependants</th>\n",
       "      <th>fam_status</th>\n",
       "      <th>income</th>\n",
       "      <th>order_number</th>\n",
       "      <th>loyalty_flag</th>\n",
       "      <th>spending_flag</th>\n",
       "      <th>order_frequency_flag</th>\n",
       "      <th>...</th>\n",
       "      <th>order_hour_of_day</th>\n",
       "      <th>department_id</th>\n",
       "      <th>prices</th>\n",
       "      <th>price_range</th>\n",
       "      <th>busiest_day</th>\n",
       "      <th>busiest_period_of_day</th>\n",
       "      <th>region</th>\n",
       "      <th>department</th>\n",
       "      <th>Age_group</th>\n",
       "      <th>income_group</th>\n",
       "    </tr>\n",
       "  </thead>\n",
       "  <tbody>\n",
       "    <tr>\n",
       "      <th>4</th>\n",
       "      <td>Female</td>\n",
       "      <td>Alabama</td>\n",
       "      <td>31</td>\n",
       "      <td>3</td>\n",
       "      <td>married</td>\n",
       "      <td>40423</td>\n",
       "      <td>5</td>\n",
       "      <td>New customer</td>\n",
       "      <td>Low spender</td>\n",
       "      <td>Non-frequent customer</td>\n",
       "      <td>...</td>\n",
       "      <td>15</td>\n",
       "      <td>7</td>\n",
       "      <td>9.0</td>\n",
       "      <td>Mid-range product</td>\n",
       "      <td>Least busy</td>\n",
       "      <td>Most orders</td>\n",
       "      <td>South</td>\n",
       "      <td>beverages</td>\n",
       "      <td>Middle Aged Adults</td>\n",
       "      <td>Low Income</td>\n",
       "    </tr>\n",
       "    <tr>\n",
       "      <th>5</th>\n",
       "      <td>Female</td>\n",
       "      <td>Alabama</td>\n",
       "      <td>31</td>\n",
       "      <td>3</td>\n",
       "      <td>married</td>\n",
       "      <td>40423</td>\n",
       "      <td>6</td>\n",
       "      <td>New customer</td>\n",
       "      <td>Low spender</td>\n",
       "      <td>Non-frequent customer</td>\n",
       "      <td>...</td>\n",
       "      <td>7</td>\n",
       "      <td>7</td>\n",
       "      <td>9.0</td>\n",
       "      <td>Mid-range product</td>\n",
       "      <td>Regularly busy</td>\n",
       "      <td>Average orders</td>\n",
       "      <td>South</td>\n",
       "      <td>beverages</td>\n",
       "      <td>Middle Aged Adults</td>\n",
       "      <td>Low Income</td>\n",
       "    </tr>\n",
       "    <tr>\n",
       "      <th>11</th>\n",
       "      <td>Female</td>\n",
       "      <td>Alabama</td>\n",
       "      <td>31</td>\n",
       "      <td>3</td>\n",
       "      <td>married</td>\n",
       "      <td>40423</td>\n",
       "      <td>1</td>\n",
       "      <td>New customer</td>\n",
       "      <td>Low spender</td>\n",
       "      <td>Non-frequent customer</td>\n",
       "      <td>...</td>\n",
       "      <td>8</td>\n",
       "      <td>19</td>\n",
       "      <td>4.4</td>\n",
       "      <td>Low-range product</td>\n",
       "      <td>Regularly busy</td>\n",
       "      <td>Average orders</td>\n",
       "      <td>South</td>\n",
       "      <td>snacks</td>\n",
       "      <td>Middle Aged Adults</td>\n",
       "      <td>Low Income</td>\n",
       "    </tr>\n",
       "    <tr>\n",
       "      <th>12</th>\n",
       "      <td>Female</td>\n",
       "      <td>Alabama</td>\n",
       "      <td>31</td>\n",
       "      <td>3</td>\n",
       "      <td>married</td>\n",
       "      <td>40423</td>\n",
       "      <td>2</td>\n",
       "      <td>New customer</td>\n",
       "      <td>Low spender</td>\n",
       "      <td>Non-frequent customer</td>\n",
       "      <td>...</td>\n",
       "      <td>7</td>\n",
       "      <td>19</td>\n",
       "      <td>4.4</td>\n",
       "      <td>Low-range product</td>\n",
       "      <td>Regularly busy</td>\n",
       "      <td>Average orders</td>\n",
       "      <td>South</td>\n",
       "      <td>snacks</td>\n",
       "      <td>Middle Aged Adults</td>\n",
       "      <td>Low Income</td>\n",
       "    </tr>\n",
       "    <tr>\n",
       "      <th>17</th>\n",
       "      <td>Female</td>\n",
       "      <td>Alabama</td>\n",
       "      <td>31</td>\n",
       "      <td>3</td>\n",
       "      <td>married</td>\n",
       "      <td>40423</td>\n",
       "      <td>7</td>\n",
       "      <td>New customer</td>\n",
       "      <td>Low spender</td>\n",
       "      <td>Non-frequent customer</td>\n",
       "      <td>...</td>\n",
       "      <td>9</td>\n",
       "      <td>19</td>\n",
       "      <td>4.4</td>\n",
       "      <td>Low-range product</td>\n",
       "      <td>Regularly busy</td>\n",
       "      <td>Most orders</td>\n",
       "      <td>South</td>\n",
       "      <td>snacks</td>\n",
       "      <td>Middle Aged Adults</td>\n",
       "      <td>Low Income</td>\n",
       "    </tr>\n",
       "  </tbody>\n",
       "</table>\n",
       "<p>5 rows × 22 columns</p>\n",
       "</div>"
      ],
      "text/plain": [
       "    Gender    State  Age  n_dependants fam_status  income  order_number  \\\n",
       "4   Female  Alabama   31             3    married   40423             5   \n",
       "5   Female  Alabama   31             3    married   40423             6   \n",
       "11  Female  Alabama   31             3    married   40423             1   \n",
       "12  Female  Alabama   31             3    married   40423             2   \n",
       "17  Female  Alabama   31             3    married   40423             7   \n",
       "\n",
       "    loyalty_flag spending_flag   order_frequency_flag  ... order_hour_of_day  \\\n",
       "4   New customer   Low spender  Non-frequent customer  ...                15   \n",
       "5   New customer   Low spender  Non-frequent customer  ...                 7   \n",
       "11  New customer   Low spender  Non-frequent customer  ...                 8   \n",
       "12  New customer   Low spender  Non-frequent customer  ...                 7   \n",
       "17  New customer   Low spender  Non-frequent customer  ...                 9   \n",
       "\n",
       "    department_id  prices        price_range     busiest_day  \\\n",
       "4               7     9.0  Mid-range product      Least busy   \n",
       "5               7     9.0  Mid-range product  Regularly busy   \n",
       "11             19     4.4  Low-range product  Regularly busy   \n",
       "12             19     4.4  Low-range product  Regularly busy   \n",
       "17             19     4.4  Low-range product  Regularly busy   \n",
       "\n",
       "   busiest_period_of_day region department           Age_group income_group  \n",
       "4            Most orders  South  beverages  Middle Aged Adults   Low Income  \n",
       "5         Average orders  South  beverages  Middle Aged Adults   Low Income  \n",
       "11        Average orders  South     snacks  Middle Aged Adults   Low Income  \n",
       "12        Average orders  South     snacks  Middle Aged Adults   Low Income  \n",
       "17           Most orders  South     snacks  Middle Aged Adults   Low Income  \n",
       "\n",
       "[5 rows x 22 columns]"
      ]
     },
     "execution_count": 55,
     "metadata": {},
     "output_type": "execute_result"
    }
   ],
   "source": [
    "# Check output\n",
    "\n",
    "df_final_subset.head()"
   ]
  },
  {
   "cell_type": "markdown",
   "id": "ac367361",
   "metadata": {},
   "source": [
    "## 6 Create parent groups"
   ]
  },
  {
   "cell_type": "code",
   "execution_count": 56,
   "id": "3fe55f6c",
   "metadata": {},
   "outputs": [
    {
     "name": "stderr",
     "output_type": "stream",
     "text": [
      "C:\\Users\\cook family\\AppData\\Local\\Temp\\ipykernel_10148\\2451329041.py:3: SettingWithCopyWarning: \n",
      "A value is trying to be set on a copy of a slice from a DataFrame.\n",
      "Try using .loc[row_indexer,col_indexer] = value instead\n",
      "\n",
      "See the caveats in the documentation: https://pandas.pydata.org/pandas-docs/stable/user_guide/indexing.html#returning-a-view-versus-a-copy\n",
      "  df_final_subset.loc[df_final_subset['n_dependants'] >0, 'dependents_group'] = 'Parent'\n"
     ]
    }
   ],
   "source": [
    "# Assign dependent groups\n",
    "\n",
    "df_final_subset.loc[df_final_subset['n_dependants'] >0, 'dependents_group'] = 'Parent'"
   ]
  },
  {
   "cell_type": "code",
   "execution_count": 57,
   "id": "5b7f68f0",
   "metadata": {},
   "outputs": [],
   "source": [
    "df_final_subset.loc[df_final_subset['n_dependants'] ==0, 'dependents_group'] = 'No Children'"
   ]
  },
  {
   "cell_type": "code",
   "execution_count": 58,
   "id": "17ba8338",
   "metadata": {},
   "outputs": [
    {
     "data": {
      "text/plain": [
       "Parent         7294689\n",
       "No Children    2427989\n",
       "Name: dependents_group, dtype: int64"
      ]
     },
     "execution_count": 58,
     "metadata": {},
     "output_type": "execute_result"
    }
   ],
   "source": [
    "# Check frequency \n",
    "\n",
    "df_final_subset['dependents_group'].value_counts(dropna=False)"
   ]
  },
  {
   "cell_type": "code",
   "execution_count": 59,
   "id": "bb5a02a0",
   "metadata": {},
   "outputs": [
    {
     "data": {
      "text/plain": [
       "(9722678,)"
      ]
     },
     "execution_count": 59,
     "metadata": {},
     "output_type": "execute_result"
    }
   ],
   "source": [
    "# Check the shape \n",
    "\n",
    "df_final_subset['dependents_group'].shape"
   ]
  },
  {
   "cell_type": "code",
   "execution_count": 60,
   "id": "1de3b4ff",
   "metadata": {},
   "outputs": [
    {
     "data": {
      "text/html": [
       "<div>\n",
       "<style scoped>\n",
       "    .dataframe tbody tr th:only-of-type {\n",
       "        vertical-align: middle;\n",
       "    }\n",
       "\n",
       "    .dataframe tbody tr th {\n",
       "        vertical-align: top;\n",
       "    }\n",
       "\n",
       "    .dataframe thead th {\n",
       "        text-align: right;\n",
       "    }\n",
       "</style>\n",
       "<table border=\"1\" class=\"dataframe\">\n",
       "  <thead>\n",
       "    <tr style=\"text-align: right;\">\n",
       "      <th></th>\n",
       "      <th>Gender</th>\n",
       "      <th>State</th>\n",
       "      <th>Age</th>\n",
       "      <th>n_dependants</th>\n",
       "      <th>fam_status</th>\n",
       "      <th>income</th>\n",
       "      <th>order_number</th>\n",
       "      <th>loyalty_flag</th>\n",
       "      <th>spending_flag</th>\n",
       "      <th>order_frequency_flag</th>\n",
       "      <th>...</th>\n",
       "      <th>department_id</th>\n",
       "      <th>prices</th>\n",
       "      <th>price_range</th>\n",
       "      <th>busiest_day</th>\n",
       "      <th>busiest_period_of_day</th>\n",
       "      <th>region</th>\n",
       "      <th>department</th>\n",
       "      <th>Age_group</th>\n",
       "      <th>income_group</th>\n",
       "      <th>dependents_group</th>\n",
       "    </tr>\n",
       "  </thead>\n",
       "  <tbody>\n",
       "    <tr>\n",
       "      <th>4</th>\n",
       "      <td>Female</td>\n",
       "      <td>Alabama</td>\n",
       "      <td>31</td>\n",
       "      <td>3</td>\n",
       "      <td>married</td>\n",
       "      <td>40423</td>\n",
       "      <td>5</td>\n",
       "      <td>New customer</td>\n",
       "      <td>Low spender</td>\n",
       "      <td>Non-frequent customer</td>\n",
       "      <td>...</td>\n",
       "      <td>7</td>\n",
       "      <td>9.0</td>\n",
       "      <td>Mid-range product</td>\n",
       "      <td>Least busy</td>\n",
       "      <td>Most orders</td>\n",
       "      <td>South</td>\n",
       "      <td>beverages</td>\n",
       "      <td>Middle Aged Adults</td>\n",
       "      <td>Low Income</td>\n",
       "      <td>Parent</td>\n",
       "    </tr>\n",
       "    <tr>\n",
       "      <th>5</th>\n",
       "      <td>Female</td>\n",
       "      <td>Alabama</td>\n",
       "      <td>31</td>\n",
       "      <td>3</td>\n",
       "      <td>married</td>\n",
       "      <td>40423</td>\n",
       "      <td>6</td>\n",
       "      <td>New customer</td>\n",
       "      <td>Low spender</td>\n",
       "      <td>Non-frequent customer</td>\n",
       "      <td>...</td>\n",
       "      <td>7</td>\n",
       "      <td>9.0</td>\n",
       "      <td>Mid-range product</td>\n",
       "      <td>Regularly busy</td>\n",
       "      <td>Average orders</td>\n",
       "      <td>South</td>\n",
       "      <td>beverages</td>\n",
       "      <td>Middle Aged Adults</td>\n",
       "      <td>Low Income</td>\n",
       "      <td>Parent</td>\n",
       "    </tr>\n",
       "    <tr>\n",
       "      <th>11</th>\n",
       "      <td>Female</td>\n",
       "      <td>Alabama</td>\n",
       "      <td>31</td>\n",
       "      <td>3</td>\n",
       "      <td>married</td>\n",
       "      <td>40423</td>\n",
       "      <td>1</td>\n",
       "      <td>New customer</td>\n",
       "      <td>Low spender</td>\n",
       "      <td>Non-frequent customer</td>\n",
       "      <td>...</td>\n",
       "      <td>19</td>\n",
       "      <td>4.4</td>\n",
       "      <td>Low-range product</td>\n",
       "      <td>Regularly busy</td>\n",
       "      <td>Average orders</td>\n",
       "      <td>South</td>\n",
       "      <td>snacks</td>\n",
       "      <td>Middle Aged Adults</td>\n",
       "      <td>Low Income</td>\n",
       "      <td>Parent</td>\n",
       "    </tr>\n",
       "    <tr>\n",
       "      <th>12</th>\n",
       "      <td>Female</td>\n",
       "      <td>Alabama</td>\n",
       "      <td>31</td>\n",
       "      <td>3</td>\n",
       "      <td>married</td>\n",
       "      <td>40423</td>\n",
       "      <td>2</td>\n",
       "      <td>New customer</td>\n",
       "      <td>Low spender</td>\n",
       "      <td>Non-frequent customer</td>\n",
       "      <td>...</td>\n",
       "      <td>19</td>\n",
       "      <td>4.4</td>\n",
       "      <td>Low-range product</td>\n",
       "      <td>Regularly busy</td>\n",
       "      <td>Average orders</td>\n",
       "      <td>South</td>\n",
       "      <td>snacks</td>\n",
       "      <td>Middle Aged Adults</td>\n",
       "      <td>Low Income</td>\n",
       "      <td>Parent</td>\n",
       "    </tr>\n",
       "    <tr>\n",
       "      <th>17</th>\n",
       "      <td>Female</td>\n",
       "      <td>Alabama</td>\n",
       "      <td>31</td>\n",
       "      <td>3</td>\n",
       "      <td>married</td>\n",
       "      <td>40423</td>\n",
       "      <td>7</td>\n",
       "      <td>New customer</td>\n",
       "      <td>Low spender</td>\n",
       "      <td>Non-frequent customer</td>\n",
       "      <td>...</td>\n",
       "      <td>19</td>\n",
       "      <td>4.4</td>\n",
       "      <td>Low-range product</td>\n",
       "      <td>Regularly busy</td>\n",
       "      <td>Most orders</td>\n",
       "      <td>South</td>\n",
       "      <td>snacks</td>\n",
       "      <td>Middle Aged Adults</td>\n",
       "      <td>Low Income</td>\n",
       "      <td>Parent</td>\n",
       "    </tr>\n",
       "  </tbody>\n",
       "</table>\n",
       "<p>5 rows × 23 columns</p>\n",
       "</div>"
      ],
      "text/plain": [
       "    Gender    State  Age  n_dependants fam_status  income  order_number  \\\n",
       "4   Female  Alabama   31             3    married   40423             5   \n",
       "5   Female  Alabama   31             3    married   40423             6   \n",
       "11  Female  Alabama   31             3    married   40423             1   \n",
       "12  Female  Alabama   31             3    married   40423             2   \n",
       "17  Female  Alabama   31             3    married   40423             7   \n",
       "\n",
       "    loyalty_flag spending_flag   order_frequency_flag  ... department_id  \\\n",
       "4   New customer   Low spender  Non-frequent customer  ...             7   \n",
       "5   New customer   Low spender  Non-frequent customer  ...             7   \n",
       "11  New customer   Low spender  Non-frequent customer  ...            19   \n",
       "12  New customer   Low spender  Non-frequent customer  ...            19   \n",
       "17  New customer   Low spender  Non-frequent customer  ...            19   \n",
       "\n",
       "    prices        price_range     busiest_day  busiest_period_of_day region  \\\n",
       "4      9.0  Mid-range product      Least busy            Most orders  South   \n",
       "5      9.0  Mid-range product  Regularly busy         Average orders  South   \n",
       "11     4.4  Low-range product  Regularly busy         Average orders  South   \n",
       "12     4.4  Low-range product  Regularly busy         Average orders  South   \n",
       "17     4.4  Low-range product  Regularly busy            Most orders  South   \n",
       "\n",
       "   department           Age_group income_group dependents_group  \n",
       "4   beverages  Middle Aged Adults   Low Income           Parent  \n",
       "5   beverages  Middle Aged Adults   Low Income           Parent  \n",
       "11     snacks  Middle Aged Adults   Low Income           Parent  \n",
       "12     snacks  Middle Aged Adults   Low Income           Parent  \n",
       "17     snacks  Middle Aged Adults   Low Income           Parent  \n",
       "\n",
       "[5 rows x 23 columns]"
      ]
     },
     "execution_count": 60,
     "metadata": {},
     "output_type": "execute_result"
    }
   ],
   "source": [
    "# Check output\n",
    "\n",
    "df_final_subset.head()"
   ]
  },
  {
   "cell_type": "markdown",
   "id": "8b39fe16",
   "metadata": {},
   "source": [
    "## 7. Create customer profiles"
   ]
  },
  {
   "cell_type": "code",
   "execution_count": 61,
   "id": "aae22332",
   "metadata": {},
   "outputs": [
    {
     "name": "stderr",
     "output_type": "stream",
     "text": [
      "C:\\Users\\cook family\\AppData\\Local\\Temp\\ipykernel_10148\\887506382.py:3: SettingWithCopyWarning: \n",
      "A value is trying to be set on a copy of a slice from a DataFrame.\n",
      "Try using .loc[row_indexer,col_indexer] = value instead\n",
      "\n",
      "See the caveats in the documentation: https://pandas.pydata.org/pandas-docs/stable/user_guide/indexing.html#returning-a-view-versus-a-copy\n",
      "  df_final_subset.loc[(df_final_subset['fam_status'] != 'married') & (df_final_subset['n_dependants'] >0), 'customer_profile'] = 'Single parent'\n"
     ]
    }
   ],
   "source": [
    "# Assign customer profile group\n",
    "\n",
    "df_final_subset.loc[(df_final_subset['fam_status'] != 'married') & (df_final_subset['n_dependants'] >0), 'customer_profile'] = 'Single parent'"
   ]
  },
  {
   "cell_type": "code",
   "execution_count": 62,
   "id": "1b53c731",
   "metadata": {},
   "outputs": [],
   "source": [
    "df_final_subset.loc[(df_final_subset['fam_status'] != 'married') & (df_final_subset['Gender'] == 'Female') & (df_final_subset['n_dependants'] ==0), 'customer_profile'] = 'Single female without children'"
   ]
  },
  {
   "cell_type": "code",
   "execution_count": 63,
   "id": "eae36065",
   "metadata": {},
   "outputs": [],
   "source": [
    "df_final_subset.loc[(df_final_subset['fam_status'] != 'married') & (df_final_subset['Gender'] == 'Male') & (df_final_subset['n_dependants'] ==0), 'customer_profile'] = 'Single male without children'"
   ]
  },
  {
   "cell_type": "code",
   "execution_count": 64,
   "id": "371d27d3",
   "metadata": {},
   "outputs": [],
   "source": [
    "df_final_subset.loc[(df_final_subset['Age'] < 30) & (df_final_subset['fam_status'] == 'married') & (df_final_subset['n_dependants'] >0), 'customer_profile'] = 'Married young parent'"
   ]
  },
  {
   "cell_type": "code",
   "execution_count": 65,
   "id": "a2efc126",
   "metadata": {},
   "outputs": [],
   "source": [
    "df_final_subset.loc[(df_final_subset['Age'] >= 30) & (df_final_subset['fam_status'] == 'married') & (df_final_subset['n_dependants'] >0), 'customer_profile'] = 'Married older parent'"
   ]
  },
  {
   "cell_type": "code",
   "execution_count": 66,
   "id": "e0b17007",
   "metadata": {},
   "outputs": [],
   "source": [
    "df_final_subset.loc[(df_final_subset['fam_status'] == 'married') & (df_final_subset['n_dependants'] ==0), 'customer_profile'] = 'Married without children'"
   ]
  },
  {
   "cell_type": "code",
   "execution_count": 67,
   "id": "fff17c7c",
   "metadata": {},
   "outputs": [
    {
     "data": {
      "text/plain": [
       "Married older parent              5920461\n",
       "Single male without children      1218011\n",
       "Single female without children    1209978\n",
       "Married young parent               907975\n",
       "Single parent                      466253\n",
       "Name: customer_profile, dtype: int64"
      ]
     },
     "execution_count": 67,
     "metadata": {},
     "output_type": "execute_result"
    }
   ],
   "source": [
    "# Check frequency \n",
    "\n",
    "df_final_subset['customer_profile'].value_counts(dropna=False)"
   ]
  },
  {
   "cell_type": "code",
   "execution_count": 68,
   "id": "a3e1fdf2",
   "metadata": {},
   "outputs": [
    {
     "data": {
      "text/plain": [
       "(9722678,)"
      ]
     },
     "execution_count": 68,
     "metadata": {},
     "output_type": "execute_result"
    }
   ],
   "source": [
    "# Check shape \n",
    "\n",
    "df_final_subset['customer_profile'].shape"
   ]
  },
  {
   "cell_type": "code",
   "execution_count": 69,
   "id": "3b4a611c",
   "metadata": {},
   "outputs": [
    {
     "data": {
      "text/html": [
       "<div>\n",
       "<style scoped>\n",
       "    .dataframe tbody tr th:only-of-type {\n",
       "        vertical-align: middle;\n",
       "    }\n",
       "\n",
       "    .dataframe tbody tr th {\n",
       "        vertical-align: top;\n",
       "    }\n",
       "\n",
       "    .dataframe thead th {\n",
       "        text-align: right;\n",
       "    }\n",
       "</style>\n",
       "<table border=\"1\" class=\"dataframe\">\n",
       "  <thead>\n",
       "    <tr style=\"text-align: right;\">\n",
       "      <th></th>\n",
       "      <th>Gender</th>\n",
       "      <th>State</th>\n",
       "      <th>Age</th>\n",
       "      <th>n_dependants</th>\n",
       "      <th>fam_status</th>\n",
       "      <th>income</th>\n",
       "      <th>order_number</th>\n",
       "      <th>loyalty_flag</th>\n",
       "      <th>spending_flag</th>\n",
       "      <th>order_frequency_flag</th>\n",
       "      <th>...</th>\n",
       "      <th>prices</th>\n",
       "      <th>price_range</th>\n",
       "      <th>busiest_day</th>\n",
       "      <th>busiest_period_of_day</th>\n",
       "      <th>region</th>\n",
       "      <th>department</th>\n",
       "      <th>Age_group</th>\n",
       "      <th>income_group</th>\n",
       "      <th>dependents_group</th>\n",
       "      <th>customer_profile</th>\n",
       "    </tr>\n",
       "  </thead>\n",
       "  <tbody>\n",
       "    <tr>\n",
       "      <th>4</th>\n",
       "      <td>Female</td>\n",
       "      <td>Alabama</td>\n",
       "      <td>31</td>\n",
       "      <td>3</td>\n",
       "      <td>married</td>\n",
       "      <td>40423</td>\n",
       "      <td>5</td>\n",
       "      <td>New customer</td>\n",
       "      <td>Low spender</td>\n",
       "      <td>Non-frequent customer</td>\n",
       "      <td>...</td>\n",
       "      <td>9.0</td>\n",
       "      <td>Mid-range product</td>\n",
       "      <td>Least busy</td>\n",
       "      <td>Most orders</td>\n",
       "      <td>South</td>\n",
       "      <td>beverages</td>\n",
       "      <td>Middle Aged Adults</td>\n",
       "      <td>Low Income</td>\n",
       "      <td>Parent</td>\n",
       "      <td>Married older parent</td>\n",
       "    </tr>\n",
       "    <tr>\n",
       "      <th>5</th>\n",
       "      <td>Female</td>\n",
       "      <td>Alabama</td>\n",
       "      <td>31</td>\n",
       "      <td>3</td>\n",
       "      <td>married</td>\n",
       "      <td>40423</td>\n",
       "      <td>6</td>\n",
       "      <td>New customer</td>\n",
       "      <td>Low spender</td>\n",
       "      <td>Non-frequent customer</td>\n",
       "      <td>...</td>\n",
       "      <td>9.0</td>\n",
       "      <td>Mid-range product</td>\n",
       "      <td>Regularly busy</td>\n",
       "      <td>Average orders</td>\n",
       "      <td>South</td>\n",
       "      <td>beverages</td>\n",
       "      <td>Middle Aged Adults</td>\n",
       "      <td>Low Income</td>\n",
       "      <td>Parent</td>\n",
       "      <td>Married older parent</td>\n",
       "    </tr>\n",
       "    <tr>\n",
       "      <th>11</th>\n",
       "      <td>Female</td>\n",
       "      <td>Alabama</td>\n",
       "      <td>31</td>\n",
       "      <td>3</td>\n",
       "      <td>married</td>\n",
       "      <td>40423</td>\n",
       "      <td>1</td>\n",
       "      <td>New customer</td>\n",
       "      <td>Low spender</td>\n",
       "      <td>Non-frequent customer</td>\n",
       "      <td>...</td>\n",
       "      <td>4.4</td>\n",
       "      <td>Low-range product</td>\n",
       "      <td>Regularly busy</td>\n",
       "      <td>Average orders</td>\n",
       "      <td>South</td>\n",
       "      <td>snacks</td>\n",
       "      <td>Middle Aged Adults</td>\n",
       "      <td>Low Income</td>\n",
       "      <td>Parent</td>\n",
       "      <td>Married older parent</td>\n",
       "    </tr>\n",
       "    <tr>\n",
       "      <th>12</th>\n",
       "      <td>Female</td>\n",
       "      <td>Alabama</td>\n",
       "      <td>31</td>\n",
       "      <td>3</td>\n",
       "      <td>married</td>\n",
       "      <td>40423</td>\n",
       "      <td>2</td>\n",
       "      <td>New customer</td>\n",
       "      <td>Low spender</td>\n",
       "      <td>Non-frequent customer</td>\n",
       "      <td>...</td>\n",
       "      <td>4.4</td>\n",
       "      <td>Low-range product</td>\n",
       "      <td>Regularly busy</td>\n",
       "      <td>Average orders</td>\n",
       "      <td>South</td>\n",
       "      <td>snacks</td>\n",
       "      <td>Middle Aged Adults</td>\n",
       "      <td>Low Income</td>\n",
       "      <td>Parent</td>\n",
       "      <td>Married older parent</td>\n",
       "    </tr>\n",
       "    <tr>\n",
       "      <th>17</th>\n",
       "      <td>Female</td>\n",
       "      <td>Alabama</td>\n",
       "      <td>31</td>\n",
       "      <td>3</td>\n",
       "      <td>married</td>\n",
       "      <td>40423</td>\n",
       "      <td>7</td>\n",
       "      <td>New customer</td>\n",
       "      <td>Low spender</td>\n",
       "      <td>Non-frequent customer</td>\n",
       "      <td>...</td>\n",
       "      <td>4.4</td>\n",
       "      <td>Low-range product</td>\n",
       "      <td>Regularly busy</td>\n",
       "      <td>Most orders</td>\n",
       "      <td>South</td>\n",
       "      <td>snacks</td>\n",
       "      <td>Middle Aged Adults</td>\n",
       "      <td>Low Income</td>\n",
       "      <td>Parent</td>\n",
       "      <td>Married older parent</td>\n",
       "    </tr>\n",
       "  </tbody>\n",
       "</table>\n",
       "<p>5 rows × 24 columns</p>\n",
       "</div>"
      ],
      "text/plain": [
       "    Gender    State  Age  n_dependants fam_status  income  order_number  \\\n",
       "4   Female  Alabama   31             3    married   40423             5   \n",
       "5   Female  Alabama   31             3    married   40423             6   \n",
       "11  Female  Alabama   31             3    married   40423             1   \n",
       "12  Female  Alabama   31             3    married   40423             2   \n",
       "17  Female  Alabama   31             3    married   40423             7   \n",
       "\n",
       "    loyalty_flag spending_flag   order_frequency_flag  ... prices  \\\n",
       "4   New customer   Low spender  Non-frequent customer  ...    9.0   \n",
       "5   New customer   Low spender  Non-frequent customer  ...    9.0   \n",
       "11  New customer   Low spender  Non-frequent customer  ...    4.4   \n",
       "12  New customer   Low spender  Non-frequent customer  ...    4.4   \n",
       "17  New customer   Low spender  Non-frequent customer  ...    4.4   \n",
       "\n",
       "          price_range     busiest_day  busiest_period_of_day  region  \\\n",
       "4   Mid-range product      Least busy            Most orders   South   \n",
       "5   Mid-range product  Regularly busy         Average orders   South   \n",
       "11  Low-range product  Regularly busy         Average orders   South   \n",
       "12  Low-range product  Regularly busy         Average orders   South   \n",
       "17  Low-range product  Regularly busy            Most orders   South   \n",
       "\n",
       "   department           Age_group income_group dependents_group  \\\n",
       "4   beverages  Middle Aged Adults   Low Income           Parent   \n",
       "5   beverages  Middle Aged Adults   Low Income           Parent   \n",
       "11     snacks  Middle Aged Adults   Low Income           Parent   \n",
       "12     snacks  Middle Aged Adults   Low Income           Parent   \n",
       "17     snacks  Middle Aged Adults   Low Income           Parent   \n",
       "\n",
       "        customer_profile  \n",
       "4   Married older parent  \n",
       "5   Married older parent  \n",
       "11  Married older parent  \n",
       "12  Married older parent  \n",
       "17  Married older parent  \n",
       "\n",
       "[5 rows x 24 columns]"
      ]
     },
     "execution_count": 69,
     "metadata": {},
     "output_type": "execute_result"
    }
   ],
   "source": [
    "# Check df output\n",
    "\n",
    "df_final_subset.head()"
   ]
  },
  {
   "cell_type": "code",
   "execution_count": 70,
   "id": "866f60e8",
   "metadata": {},
   "outputs": [
    {
     "name": "stderr",
     "output_type": "stream",
     "text": [
      "C:\\Users\\cook family\\AppData\\Local\\Temp\\ipykernel_10148\\3844837177.py:3: SettingWithCopyWarning: \n",
      "A value is trying to be set on a copy of a slice from a DataFrame.\n",
      "Try using .loc[row_indexer,col_indexer] = value instead\n",
      "\n",
      "See the caveats in the documentation: https://pandas.pydata.org/pandas-docs/stable/user_guide/indexing.html#returning-a-view-versus-a-copy\n",
      "  df_final_subset.loc[(df_final_subset['fam_status'] != 'married') & (df_final_subset['income_group'] == 'Low Income') & (df_final_subset['n_dependants'] >0), 'customer_income_profile'] = 'Low income single parent'\n"
     ]
    }
   ],
   "source": [
    "# Assign customer income profile group\n",
    "\n",
    "df_final_subset.loc[(df_final_subset['fam_status'] != 'married') & (df_final_subset['income_group'] == 'Low Income') & (df_final_subset['n_dependants'] >0), 'customer_income_profile'] = 'Low income single parent'"
   ]
  },
  {
   "cell_type": "code",
   "execution_count": 71,
   "id": "caa0fb81",
   "metadata": {},
   "outputs": [],
   "source": [
    "df_final_subset.loc[(df_final_subset['fam_status'] != 'married') & (df_final_subset['income_group'] == 'Middle Income') & (df_final_subset['n_dependants'] >0), 'customer_income_profile'] = 'Middle income single parent'"
   ]
  },
  {
   "cell_type": "code",
   "execution_count": 72,
   "id": "ab9ba53e",
   "metadata": {},
   "outputs": [],
   "source": [
    "df_final_subset.loc[(df_final_subset['fam_status'] != 'married') & (df_final_subset['income_group'] == 'Upper Income') & (df_final_subset['n_dependants'] >0), 'customer_income_profile'] = 'Upper income single parent'"
   ]
  },
  {
   "cell_type": "code",
   "execution_count": 73,
   "id": "b834c65a",
   "metadata": {},
   "outputs": [],
   "source": [
    "df_final_subset.loc[(df_final_subset['fam_status'] != 'married')  & (df_final_subset['income_group'] == 'Low Income') & (df_final_subset['Gender'] == 'Female') & (df_final_subset['n_dependants'] ==0), 'customer_income_profile'] = 'Low income single female without children'"
   ]
  },
  {
   "cell_type": "code",
   "execution_count": 74,
   "id": "27ed261d",
   "metadata": {},
   "outputs": [],
   "source": [
    "df_final_subset.loc[(df_final_subset['fam_status'] != 'married')  & (df_final_subset['income_group'] == 'Middle Income') & (df_final_subset['Gender'] == 'Female') & (df_final_subset['n_dependants'] ==0), 'customer_income_profile'] = 'Middle income single female without children'"
   ]
  },
  {
   "cell_type": "code",
   "execution_count": 75,
   "id": "35a51fd4",
   "metadata": {},
   "outputs": [],
   "source": [
    "df_final_subset.loc[(df_final_subset['fam_status'] != 'married')  & (df_final_subset['income_group'] == 'Upper Income') & (df_final_subset['Gender'] == 'Female') & (df_final_subset['n_dependants'] ==0), 'customer_income_profile'] = 'Upper income single female without children'"
   ]
  },
  {
   "cell_type": "code",
   "execution_count": 76,
   "id": "f2358dd8",
   "metadata": {},
   "outputs": [],
   "source": [
    "df_final_subset.loc[(df_final_subset['fam_status'] != 'married')  & (df_final_subset['income_group'] == 'Low Income')  & (df_final_subset['Gender'] == 'Male') & (df_final_subset['n_dependants'] ==0), 'customer_income_profile'] = 'Low income single male without children'"
   ]
  },
  {
   "cell_type": "code",
   "execution_count": 77,
   "id": "dcd3a818",
   "metadata": {},
   "outputs": [],
   "source": [
    "df_final_subset.loc[(df_final_subset['fam_status'] != 'married')  & (df_final_subset['income_group'] == 'Middle Income')  & (df_final_subset['Gender'] == 'Male') & (df_final_subset['n_dependants'] ==0), 'customer_income_profile'] = 'Middle income single male without children'"
   ]
  },
  {
   "cell_type": "code",
   "execution_count": 78,
   "id": "720a08f4",
   "metadata": {},
   "outputs": [],
   "source": [
    "df_final_subset.loc[(df_final_subset['fam_status'] != 'married')  & (df_final_subset['income_group'] == 'Upper Income')  & (df_final_subset['Gender'] == 'Male') & (df_final_subset['n_dependants'] ==0), 'customer_income_profile'] = 'Upper income single male without children'"
   ]
  },
  {
   "cell_type": "code",
   "execution_count": 79,
   "id": "4035dfe0",
   "metadata": {},
   "outputs": [],
   "source": [
    "df_final_subset.loc[(df_final_subset['Age'] < 30) & (df_final_subset['fam_status'] == 'married') & (df_final_subset['income_group'] == 'Low Income')  & (df_final_subset['n_dependants'] >0), 'customer_income_profile'] = 'Low income married young parent'"
   ]
  },
  {
   "cell_type": "code",
   "execution_count": 80,
   "id": "44104c28",
   "metadata": {},
   "outputs": [],
   "source": [
    "df_final_subset.loc[(df_final_subset['Age'] < 30) & (df_final_subset['fam_status'] == 'married') & (df_final_subset['income_group'] == 'Middle Income')  & (df_final_subset['n_dependants'] >0), 'customer_income_profile'] = 'Middle income married young parent'"
   ]
  },
  {
   "cell_type": "code",
   "execution_count": 81,
   "id": "66d868cd",
   "metadata": {},
   "outputs": [],
   "source": [
    "df_final_subset.loc[(df_final_subset['Age'] < 30) & (df_final_subset['fam_status'] == 'married') & (df_final_subset['income_group'] == 'Upper Income')  & (df_final_subset['n_dependants'] >0), 'customer_income_profile'] = 'Upper income married young parent'"
   ]
  },
  {
   "cell_type": "code",
   "execution_count": 82,
   "id": "d7dd9323",
   "metadata": {},
   "outputs": [],
   "source": [
    "df_final_subset.loc[(df_final_subset['Age'] >= 30) & (df_final_subset['fam_status'] == 'married') & (df_final_subset['income_group'] == 'Low Income') & (df_final_subset['n_dependants'] >0), 'customer_income_profile'] = 'Low income married older parent'"
   ]
  },
  {
   "cell_type": "code",
   "execution_count": 83,
   "id": "b9da275a",
   "metadata": {},
   "outputs": [],
   "source": [
    "df_final_subset.loc[(df_final_subset['Age'] >= 30) & (df_final_subset['fam_status'] == 'married') & (df_final_subset['income_group'] == 'Middle Income') & (df_final_subset['n_dependants'] >0), 'customer_income_profile'] = 'Middle income married older parent'"
   ]
  },
  {
   "cell_type": "code",
   "execution_count": 84,
   "id": "dcf71d6d",
   "metadata": {},
   "outputs": [],
   "source": [
    "df_final_subset.loc[(df_final_subset['Age'] >= 30) & (df_final_subset['fam_status'] == 'married') & (df_final_subset['income_group'] == 'Upper Income') & (df_final_subset['n_dependants'] >0), 'customer_income_profile'] = 'Upper income married older parent'"
   ]
  },
  {
   "cell_type": "code",
   "execution_count": 85,
   "id": "756efb72",
   "metadata": {},
   "outputs": [],
   "source": [
    "df_final_subset.loc[(df_final_subset['fam_status'] == 'married') & (df_final_subset['income_group'] == 'Low Income')& (df_final_subset['n_dependants'] ==0), 'customer_income_profile'] = 'Low income married without children'"
   ]
  },
  {
   "cell_type": "code",
   "execution_count": 86,
   "id": "780341da",
   "metadata": {},
   "outputs": [],
   "source": [
    "df_final_subset.loc[(df_final_subset['fam_status'] == 'married') & (df_final_subset['income_group'] == 'Middle Income')& (df_final_subset['n_dependants'] ==0), 'customer_income_profile'] = 'Middle income married without children'"
   ]
  },
  {
   "cell_type": "code",
   "execution_count": 87,
   "id": "b3b2d751",
   "metadata": {},
   "outputs": [],
   "source": [
    "df_final_subset.loc[(df_final_subset['fam_status'] == 'married') & (df_final_subset['income_group'] == 'Upper Income')& (df_final_subset['n_dependants'] ==0), 'customer_income_profile'] = 'Upper income married without children'"
   ]
  },
  {
   "cell_type": "code",
   "execution_count": 88,
   "id": "e758d2de",
   "metadata": {},
   "outputs": [
    {
     "data": {
      "text/plain": [
       "Middle income married older parent              3818761\n",
       "Upper income married older parent               1713060\n",
       "Middle income single male without children       838218\n",
       "Middle income single female without children     830669\n",
       "Middle income married young parent               805057\n",
       "Middle income single parent                      418132\n",
       "Low income married older parent                  388640\n",
       "Upper income single male without children        292913\n",
       "Upper income single female without children      292502\n",
       "Low income married young parent                   92100\n",
       "Low income single male without children           86880\n",
       "Low income single female without children         86807\n",
       "Low income single parent                          42655\n",
       "Upper income married young parent                 10818\n",
       "Upper income single parent                         5466\n",
       "Name: customer_income_profile, dtype: int64"
      ]
     },
     "execution_count": 88,
     "metadata": {},
     "output_type": "execute_result"
    }
   ],
   "source": [
    "# Check frequency \n",
    "\n",
    "df_final_subset['customer_income_profile'].value_counts(dropna=False)"
   ]
  },
  {
   "cell_type": "code",
   "execution_count": 89,
   "id": "f0d2d060",
   "metadata": {},
   "outputs": [
    {
     "data": {
      "text/plain": [
       "(9722678,)"
      ]
     },
     "execution_count": 89,
     "metadata": {},
     "output_type": "execute_result"
    }
   ],
   "source": [
    "# Check shape \n",
    "\n",
    "df_final_subset['customer_income_profile'].shape"
   ]
  },
  {
   "cell_type": "code",
   "execution_count": 90,
   "id": "287491e0",
   "metadata": {},
   "outputs": [
    {
     "data": {
      "text/html": [
       "<div>\n",
       "<style scoped>\n",
       "    .dataframe tbody tr th:only-of-type {\n",
       "        vertical-align: middle;\n",
       "    }\n",
       "\n",
       "    .dataframe tbody tr th {\n",
       "        vertical-align: top;\n",
       "    }\n",
       "\n",
       "    .dataframe thead th {\n",
       "        text-align: right;\n",
       "    }\n",
       "</style>\n",
       "<table border=\"1\" class=\"dataframe\">\n",
       "  <thead>\n",
       "    <tr style=\"text-align: right;\">\n",
       "      <th></th>\n",
       "      <th>Gender</th>\n",
       "      <th>State</th>\n",
       "      <th>Age</th>\n",
       "      <th>n_dependants</th>\n",
       "      <th>fam_status</th>\n",
       "      <th>income</th>\n",
       "      <th>order_number</th>\n",
       "      <th>loyalty_flag</th>\n",
       "      <th>spending_flag</th>\n",
       "      <th>order_frequency_flag</th>\n",
       "      <th>...</th>\n",
       "      <th>price_range</th>\n",
       "      <th>busiest_day</th>\n",
       "      <th>busiest_period_of_day</th>\n",
       "      <th>region</th>\n",
       "      <th>department</th>\n",
       "      <th>Age_group</th>\n",
       "      <th>income_group</th>\n",
       "      <th>dependents_group</th>\n",
       "      <th>customer_profile</th>\n",
       "      <th>customer_income_profile</th>\n",
       "    </tr>\n",
       "  </thead>\n",
       "  <tbody>\n",
       "    <tr>\n",
       "      <th>4</th>\n",
       "      <td>Female</td>\n",
       "      <td>Alabama</td>\n",
       "      <td>31</td>\n",
       "      <td>3</td>\n",
       "      <td>married</td>\n",
       "      <td>40423</td>\n",
       "      <td>5</td>\n",
       "      <td>New customer</td>\n",
       "      <td>Low spender</td>\n",
       "      <td>Non-frequent customer</td>\n",
       "      <td>...</td>\n",
       "      <td>Mid-range product</td>\n",
       "      <td>Least busy</td>\n",
       "      <td>Most orders</td>\n",
       "      <td>South</td>\n",
       "      <td>beverages</td>\n",
       "      <td>Middle Aged Adults</td>\n",
       "      <td>Low Income</td>\n",
       "      <td>Parent</td>\n",
       "      <td>Married older parent</td>\n",
       "      <td>Low income married older parent</td>\n",
       "    </tr>\n",
       "    <tr>\n",
       "      <th>5</th>\n",
       "      <td>Female</td>\n",
       "      <td>Alabama</td>\n",
       "      <td>31</td>\n",
       "      <td>3</td>\n",
       "      <td>married</td>\n",
       "      <td>40423</td>\n",
       "      <td>6</td>\n",
       "      <td>New customer</td>\n",
       "      <td>Low spender</td>\n",
       "      <td>Non-frequent customer</td>\n",
       "      <td>...</td>\n",
       "      <td>Mid-range product</td>\n",
       "      <td>Regularly busy</td>\n",
       "      <td>Average orders</td>\n",
       "      <td>South</td>\n",
       "      <td>beverages</td>\n",
       "      <td>Middle Aged Adults</td>\n",
       "      <td>Low Income</td>\n",
       "      <td>Parent</td>\n",
       "      <td>Married older parent</td>\n",
       "      <td>Low income married older parent</td>\n",
       "    </tr>\n",
       "    <tr>\n",
       "      <th>11</th>\n",
       "      <td>Female</td>\n",
       "      <td>Alabama</td>\n",
       "      <td>31</td>\n",
       "      <td>3</td>\n",
       "      <td>married</td>\n",
       "      <td>40423</td>\n",
       "      <td>1</td>\n",
       "      <td>New customer</td>\n",
       "      <td>Low spender</td>\n",
       "      <td>Non-frequent customer</td>\n",
       "      <td>...</td>\n",
       "      <td>Low-range product</td>\n",
       "      <td>Regularly busy</td>\n",
       "      <td>Average orders</td>\n",
       "      <td>South</td>\n",
       "      <td>snacks</td>\n",
       "      <td>Middle Aged Adults</td>\n",
       "      <td>Low Income</td>\n",
       "      <td>Parent</td>\n",
       "      <td>Married older parent</td>\n",
       "      <td>Low income married older parent</td>\n",
       "    </tr>\n",
       "    <tr>\n",
       "      <th>12</th>\n",
       "      <td>Female</td>\n",
       "      <td>Alabama</td>\n",
       "      <td>31</td>\n",
       "      <td>3</td>\n",
       "      <td>married</td>\n",
       "      <td>40423</td>\n",
       "      <td>2</td>\n",
       "      <td>New customer</td>\n",
       "      <td>Low spender</td>\n",
       "      <td>Non-frequent customer</td>\n",
       "      <td>...</td>\n",
       "      <td>Low-range product</td>\n",
       "      <td>Regularly busy</td>\n",
       "      <td>Average orders</td>\n",
       "      <td>South</td>\n",
       "      <td>snacks</td>\n",
       "      <td>Middle Aged Adults</td>\n",
       "      <td>Low Income</td>\n",
       "      <td>Parent</td>\n",
       "      <td>Married older parent</td>\n",
       "      <td>Low income married older parent</td>\n",
       "    </tr>\n",
       "    <tr>\n",
       "      <th>17</th>\n",
       "      <td>Female</td>\n",
       "      <td>Alabama</td>\n",
       "      <td>31</td>\n",
       "      <td>3</td>\n",
       "      <td>married</td>\n",
       "      <td>40423</td>\n",
       "      <td>7</td>\n",
       "      <td>New customer</td>\n",
       "      <td>Low spender</td>\n",
       "      <td>Non-frequent customer</td>\n",
       "      <td>...</td>\n",
       "      <td>Low-range product</td>\n",
       "      <td>Regularly busy</td>\n",
       "      <td>Most orders</td>\n",
       "      <td>South</td>\n",
       "      <td>snacks</td>\n",
       "      <td>Middle Aged Adults</td>\n",
       "      <td>Low Income</td>\n",
       "      <td>Parent</td>\n",
       "      <td>Married older parent</td>\n",
       "      <td>Low income married older parent</td>\n",
       "    </tr>\n",
       "  </tbody>\n",
       "</table>\n",
       "<p>5 rows × 25 columns</p>\n",
       "</div>"
      ],
      "text/plain": [
       "    Gender    State  Age  n_dependants fam_status  income  order_number  \\\n",
       "4   Female  Alabama   31             3    married   40423             5   \n",
       "5   Female  Alabama   31             3    married   40423             6   \n",
       "11  Female  Alabama   31             3    married   40423             1   \n",
       "12  Female  Alabama   31             3    married   40423             2   \n",
       "17  Female  Alabama   31             3    married   40423             7   \n",
       "\n",
       "    loyalty_flag spending_flag   order_frequency_flag  ...        price_range  \\\n",
       "4   New customer   Low spender  Non-frequent customer  ...  Mid-range product   \n",
       "5   New customer   Low spender  Non-frequent customer  ...  Mid-range product   \n",
       "11  New customer   Low spender  Non-frequent customer  ...  Low-range product   \n",
       "12  New customer   Low spender  Non-frequent customer  ...  Low-range product   \n",
       "17  New customer   Low spender  Non-frequent customer  ...  Low-range product   \n",
       "\n",
       "       busiest_day  busiest_period_of_day  region  department  \\\n",
       "4       Least busy            Most orders   South   beverages   \n",
       "5   Regularly busy         Average orders   South   beverages   \n",
       "11  Regularly busy         Average orders   South      snacks   \n",
       "12  Regularly busy         Average orders   South      snacks   \n",
       "17  Regularly busy            Most orders   South      snacks   \n",
       "\n",
       "             Age_group income_group dependents_group      customer_profile  \\\n",
       "4   Middle Aged Adults   Low Income           Parent  Married older parent   \n",
       "5   Middle Aged Adults   Low Income           Parent  Married older parent   \n",
       "11  Middle Aged Adults   Low Income           Parent  Married older parent   \n",
       "12  Middle Aged Adults   Low Income           Parent  Married older parent   \n",
       "17  Middle Aged Adults   Low Income           Parent  Married older parent   \n",
       "\n",
       "            customer_income_profile  \n",
       "4   Low income married older parent  \n",
       "5   Low income married older parent  \n",
       "11  Low income married older parent  \n",
       "12  Low income married older parent  \n",
       "17  Low income married older parent  \n",
       "\n",
       "[5 rows x 25 columns]"
      ]
     },
     "execution_count": 90,
     "metadata": {},
     "output_type": "execute_result"
    }
   ],
   "source": [
    "# Check df output\n",
    "\n",
    "df_final_subset.head()"
   ]
  },
  {
   "cell_type": "markdown",
   "id": "cb41e475",
   "metadata": {},
   "source": [
    "## 8. Assign hourly groups"
   ]
  },
  {
   "cell_type": "code",
   "execution_count": 91,
   "id": "b2275533",
   "metadata": {},
   "outputs": [
    {
     "name": "stderr",
     "output_type": "stream",
     "text": [
      "C:\\Users\\cook family\\AppData\\Local\\Temp\\ipykernel_10148\\922373287.py:1: SettingWithCopyWarning: \n",
      "A value is trying to be set on a copy of a slice from a DataFrame.\n",
      "Try using .loc[row_indexer,col_indexer] = value instead\n",
      "\n",
      "See the caveats in the documentation: https://pandas.pydata.org/pandas-docs/stable/user_guide/indexing.html#returning-a-view-versus-a-copy\n",
      "  df_final_subset.loc[(df_final_subset['order_hour_of_day'] >= 0) & (df_final_subset['order_hour_of_day'] <8), 'time_period'] = 'Before 8am'\n"
     ]
    }
   ],
   "source": [
    "df_final_subset.loc[(df_final_subset['order_hour_of_day'] >= 0) & (df_final_subset['order_hour_of_day'] <8), 'time_period'] = 'Before 8am'"
   ]
  },
  {
   "cell_type": "code",
   "execution_count": 92,
   "id": "49ac8187",
   "metadata": {},
   "outputs": [],
   "source": [
    "df_final_subset.loc[(df_final_subset['order_hour_of_day'] >= 8) & (df_final_subset['order_hour_of_day'] <=17), 'time_period'] = 'Between 8am and 5pm'"
   ]
  },
  {
   "cell_type": "code",
   "execution_count": 93,
   "id": "c83cee85",
   "metadata": {},
   "outputs": [],
   "source": [
    "df_final_subset.loc[(df_final_subset['order_hour_of_day'] > 17), 'time_period'] = 'After 5pm'"
   ]
  },
  {
   "cell_type": "code",
   "execution_count": 94,
   "id": "3a93b2f0",
   "metadata": {},
   "outputs": [
    {
     "data": {
      "text/plain": [
       "Between 8am and 5pm    7478168\n",
       "After 5pm              1710918\n",
       "Before 8am              533592\n",
       "Name: time_period, dtype: int64"
      ]
     },
     "execution_count": 94,
     "metadata": {},
     "output_type": "execute_result"
    }
   ],
   "source": [
    "# Check frequency \n",
    "\n",
    "df_final_subset['time_period'].value_counts(dropna=False)"
   ]
  },
  {
   "cell_type": "code",
   "execution_count": 95,
   "id": "78e994aa",
   "metadata": {},
   "outputs": [
    {
     "data": {
      "text/plain": [
       "(9722678,)"
      ]
     },
     "execution_count": 95,
     "metadata": {},
     "output_type": "execute_result"
    }
   ],
   "source": [
    "# Check shape \n",
    "\n",
    "df_final_subset['time_period'].shape"
   ]
  },
  {
   "cell_type": "code",
   "execution_count": 96,
   "id": "ea9ce585",
   "metadata": {},
   "outputs": [
    {
     "data": {
      "text/html": [
       "<div>\n",
       "<style scoped>\n",
       "    .dataframe tbody tr th:only-of-type {\n",
       "        vertical-align: middle;\n",
       "    }\n",
       "\n",
       "    .dataframe tbody tr th {\n",
       "        vertical-align: top;\n",
       "    }\n",
       "\n",
       "    .dataframe thead th {\n",
       "        text-align: right;\n",
       "    }\n",
       "</style>\n",
       "<table border=\"1\" class=\"dataframe\">\n",
       "  <thead>\n",
       "    <tr style=\"text-align: right;\">\n",
       "      <th></th>\n",
       "      <th>Gender</th>\n",
       "      <th>State</th>\n",
       "      <th>Age</th>\n",
       "      <th>n_dependants</th>\n",
       "      <th>fam_status</th>\n",
       "      <th>income</th>\n",
       "      <th>order_number</th>\n",
       "      <th>loyalty_flag</th>\n",
       "      <th>spending_flag</th>\n",
       "      <th>order_frequency_flag</th>\n",
       "      <th>...</th>\n",
       "      <th>busiest_day</th>\n",
       "      <th>busiest_period_of_day</th>\n",
       "      <th>region</th>\n",
       "      <th>department</th>\n",
       "      <th>Age_group</th>\n",
       "      <th>income_group</th>\n",
       "      <th>dependents_group</th>\n",
       "      <th>customer_profile</th>\n",
       "      <th>customer_income_profile</th>\n",
       "      <th>time_period</th>\n",
       "    </tr>\n",
       "  </thead>\n",
       "  <tbody>\n",
       "    <tr>\n",
       "      <th>4</th>\n",
       "      <td>Female</td>\n",
       "      <td>Alabama</td>\n",
       "      <td>31</td>\n",
       "      <td>3</td>\n",
       "      <td>married</td>\n",
       "      <td>40423</td>\n",
       "      <td>5</td>\n",
       "      <td>New customer</td>\n",
       "      <td>Low spender</td>\n",
       "      <td>Non-frequent customer</td>\n",
       "      <td>...</td>\n",
       "      <td>Least busy</td>\n",
       "      <td>Most orders</td>\n",
       "      <td>South</td>\n",
       "      <td>beverages</td>\n",
       "      <td>Middle Aged Adults</td>\n",
       "      <td>Low Income</td>\n",
       "      <td>Parent</td>\n",
       "      <td>Married older parent</td>\n",
       "      <td>Low income married older parent</td>\n",
       "      <td>Between 8am and 5pm</td>\n",
       "    </tr>\n",
       "    <tr>\n",
       "      <th>5</th>\n",
       "      <td>Female</td>\n",
       "      <td>Alabama</td>\n",
       "      <td>31</td>\n",
       "      <td>3</td>\n",
       "      <td>married</td>\n",
       "      <td>40423</td>\n",
       "      <td>6</td>\n",
       "      <td>New customer</td>\n",
       "      <td>Low spender</td>\n",
       "      <td>Non-frequent customer</td>\n",
       "      <td>...</td>\n",
       "      <td>Regularly busy</td>\n",
       "      <td>Average orders</td>\n",
       "      <td>South</td>\n",
       "      <td>beverages</td>\n",
       "      <td>Middle Aged Adults</td>\n",
       "      <td>Low Income</td>\n",
       "      <td>Parent</td>\n",
       "      <td>Married older parent</td>\n",
       "      <td>Low income married older parent</td>\n",
       "      <td>Before 8am</td>\n",
       "    </tr>\n",
       "    <tr>\n",
       "      <th>11</th>\n",
       "      <td>Female</td>\n",
       "      <td>Alabama</td>\n",
       "      <td>31</td>\n",
       "      <td>3</td>\n",
       "      <td>married</td>\n",
       "      <td>40423</td>\n",
       "      <td>1</td>\n",
       "      <td>New customer</td>\n",
       "      <td>Low spender</td>\n",
       "      <td>Non-frequent customer</td>\n",
       "      <td>...</td>\n",
       "      <td>Regularly busy</td>\n",
       "      <td>Average orders</td>\n",
       "      <td>South</td>\n",
       "      <td>snacks</td>\n",
       "      <td>Middle Aged Adults</td>\n",
       "      <td>Low Income</td>\n",
       "      <td>Parent</td>\n",
       "      <td>Married older parent</td>\n",
       "      <td>Low income married older parent</td>\n",
       "      <td>Between 8am and 5pm</td>\n",
       "    </tr>\n",
       "    <tr>\n",
       "      <th>12</th>\n",
       "      <td>Female</td>\n",
       "      <td>Alabama</td>\n",
       "      <td>31</td>\n",
       "      <td>3</td>\n",
       "      <td>married</td>\n",
       "      <td>40423</td>\n",
       "      <td>2</td>\n",
       "      <td>New customer</td>\n",
       "      <td>Low spender</td>\n",
       "      <td>Non-frequent customer</td>\n",
       "      <td>...</td>\n",
       "      <td>Regularly busy</td>\n",
       "      <td>Average orders</td>\n",
       "      <td>South</td>\n",
       "      <td>snacks</td>\n",
       "      <td>Middle Aged Adults</td>\n",
       "      <td>Low Income</td>\n",
       "      <td>Parent</td>\n",
       "      <td>Married older parent</td>\n",
       "      <td>Low income married older parent</td>\n",
       "      <td>Before 8am</td>\n",
       "    </tr>\n",
       "    <tr>\n",
       "      <th>17</th>\n",
       "      <td>Female</td>\n",
       "      <td>Alabama</td>\n",
       "      <td>31</td>\n",
       "      <td>3</td>\n",
       "      <td>married</td>\n",
       "      <td>40423</td>\n",
       "      <td>7</td>\n",
       "      <td>New customer</td>\n",
       "      <td>Low spender</td>\n",
       "      <td>Non-frequent customer</td>\n",
       "      <td>...</td>\n",
       "      <td>Regularly busy</td>\n",
       "      <td>Most orders</td>\n",
       "      <td>South</td>\n",
       "      <td>snacks</td>\n",
       "      <td>Middle Aged Adults</td>\n",
       "      <td>Low Income</td>\n",
       "      <td>Parent</td>\n",
       "      <td>Married older parent</td>\n",
       "      <td>Low income married older parent</td>\n",
       "      <td>Between 8am and 5pm</td>\n",
       "    </tr>\n",
       "  </tbody>\n",
       "</table>\n",
       "<p>5 rows × 26 columns</p>\n",
       "</div>"
      ],
      "text/plain": [
       "    Gender    State  Age  n_dependants fam_status  income  order_number  \\\n",
       "4   Female  Alabama   31             3    married   40423             5   \n",
       "5   Female  Alabama   31             3    married   40423             6   \n",
       "11  Female  Alabama   31             3    married   40423             1   \n",
       "12  Female  Alabama   31             3    married   40423             2   \n",
       "17  Female  Alabama   31             3    married   40423             7   \n",
       "\n",
       "    loyalty_flag spending_flag   order_frequency_flag  ...     busiest_day  \\\n",
       "4   New customer   Low spender  Non-frequent customer  ...      Least busy   \n",
       "5   New customer   Low spender  Non-frequent customer  ...  Regularly busy   \n",
       "11  New customer   Low spender  Non-frequent customer  ...  Regularly busy   \n",
       "12  New customer   Low spender  Non-frequent customer  ...  Regularly busy   \n",
       "17  New customer   Low spender  Non-frequent customer  ...  Regularly busy   \n",
       "\n",
       "    busiest_period_of_day  region  department           Age_group  \\\n",
       "4             Most orders   South   beverages  Middle Aged Adults   \n",
       "5          Average orders   South   beverages  Middle Aged Adults   \n",
       "11         Average orders   South      snacks  Middle Aged Adults   \n",
       "12         Average orders   South      snacks  Middle Aged Adults   \n",
       "17            Most orders   South      snacks  Middle Aged Adults   \n",
       "\n",
       "   income_group dependents_group      customer_profile  \\\n",
       "4    Low Income           Parent  Married older parent   \n",
       "5    Low Income           Parent  Married older parent   \n",
       "11   Low Income           Parent  Married older parent   \n",
       "12   Low Income           Parent  Married older parent   \n",
       "17   Low Income           Parent  Married older parent   \n",
       "\n",
       "            customer_income_profile          time_period  \n",
       "4   Low income married older parent  Between 8am and 5pm  \n",
       "5   Low income married older parent           Before 8am  \n",
       "11  Low income married older parent  Between 8am and 5pm  \n",
       "12  Low income married older parent           Before 8am  \n",
       "17  Low income married older parent  Between 8am and 5pm  \n",
       "\n",
       "[5 rows x 26 columns]"
      ]
     },
     "execution_count": 96,
     "metadata": {},
     "output_type": "execute_result"
    }
   ],
   "source": [
    "# Check output\n",
    "\n",
    "df_final_subset.head()"
   ]
  },
  {
   "cell_type": "markdown",
   "id": "052bf8d7",
   "metadata": {},
   "source": [
    "## 9. Assign Days"
   ]
  },
  {
   "cell_type": "code",
   "execution_count": 97,
   "id": "cdc48f3f",
   "metadata": {},
   "outputs": [
    {
     "name": "stderr",
     "output_type": "stream",
     "text": [
      "C:\\Users\\cook family\\AppData\\Local\\Temp\\ipykernel_10148\\2806668830.py:5: SettingWithCopyWarning: \n",
      "A value is trying to be set on a copy of a slice from a DataFrame.\n",
      "Try using .loc[row_indexer,col_indexer] = value instead\n",
      "\n",
      "See the caveats in the documentation: https://pandas.pydata.org/pandas-docs/stable/user_guide/indexing.html#returning-a-view-versus-a-copy\n",
      "  df_final_subset.loc[df_final_subset['orders_day_of_week'] == 0, 'day'] = 'Saturday'\n"
     ]
    }
   ],
   "source": [
    "# Check output\n",
    "\n",
    "df_final_subset.head()# Assign day values using order_day_of_week column\n",
    "\n",
    "df_final_subset.loc[df_final_subset['orders_day_of_week'] == 0, 'day'] = 'Saturday'"
   ]
  },
  {
   "cell_type": "code",
   "execution_count": 98,
   "id": "c51ac0d6",
   "metadata": {},
   "outputs": [],
   "source": [
    "df_final_subset.loc[df_final_subset['orders_day_of_week'] == 1, 'day'] = 'Sunday'"
   ]
  },
  {
   "cell_type": "code",
   "execution_count": 99,
   "id": "add6d4f7",
   "metadata": {},
   "outputs": [],
   "source": [
    "df_final_subset.loc[df_final_subset['orders_day_of_week'] == 2, 'day'] = 'Monday'"
   ]
  },
  {
   "cell_type": "code",
   "execution_count": 100,
   "id": "b0aba279",
   "metadata": {},
   "outputs": [],
   "source": [
    "df_final_subset.loc[df_final_subset['orders_day_of_week'] == 3, 'day'] = 'Tuesday'"
   ]
  },
  {
   "cell_type": "code",
   "execution_count": 101,
   "id": "33bc82b1",
   "metadata": {},
   "outputs": [],
   "source": [
    "df_final_subset.loc[df_final_subset['orders_day_of_week'] == 4, 'day'] = 'Wednesday'"
   ]
  },
  {
   "cell_type": "code",
   "execution_count": 102,
   "id": "47f097fe",
   "metadata": {},
   "outputs": [],
   "source": [
    "df_final_subset.loc[df_final_subset['orders_day_of_week'] == 5, 'day'] = 'Thursday'"
   ]
  },
  {
   "cell_type": "code",
   "execution_count": 103,
   "id": "6767398e",
   "metadata": {},
   "outputs": [],
   "source": [
    "df_final_subset.loc[df_final_subset['orders_day_of_week'] == 6, 'day'] = 'Friday'"
   ]
  },
  {
   "cell_type": "code",
   "execution_count": 104,
   "id": "cd7e9d5c",
   "metadata": {},
   "outputs": [
    {
     "data": {
      "text/plain": [
       "Saturday     1861569\n",
       "Sunday       1698810\n",
       "Friday       1350082\n",
       "Monday       1264106\n",
       "Thursday     1261603\n",
       "Tuesday      1150863\n",
       "Wednesday    1135645\n",
       "Name: day, dtype: int64"
      ]
     },
     "execution_count": 104,
     "metadata": {},
     "output_type": "execute_result"
    }
   ],
   "source": [
    "# Check frequency \n",
    "\n",
    "df_final_subset['day'].value_counts(dropna=False)"
   ]
  },
  {
   "cell_type": "code",
   "execution_count": 105,
   "id": "27324866",
   "metadata": {},
   "outputs": [
    {
     "data": {
      "text/plain": [
       "(9722678,)"
      ]
     },
     "execution_count": 105,
     "metadata": {},
     "output_type": "execute_result"
    }
   ],
   "source": [
    "# Check shape \n",
    "\n",
    "df_final_subset['day'].shape"
   ]
  },
  {
   "cell_type": "code",
   "execution_count": 106,
   "id": "72dde57c",
   "metadata": {},
   "outputs": [
    {
     "data": {
      "text/html": [
       "<div>\n",
       "<style scoped>\n",
       "    .dataframe tbody tr th:only-of-type {\n",
       "        vertical-align: middle;\n",
       "    }\n",
       "\n",
       "    .dataframe tbody tr th {\n",
       "        vertical-align: top;\n",
       "    }\n",
       "\n",
       "    .dataframe thead th {\n",
       "        text-align: right;\n",
       "    }\n",
       "</style>\n",
       "<table border=\"1\" class=\"dataframe\">\n",
       "  <thead>\n",
       "    <tr style=\"text-align: right;\">\n",
       "      <th></th>\n",
       "      <th>Gender</th>\n",
       "      <th>State</th>\n",
       "      <th>Age</th>\n",
       "      <th>n_dependants</th>\n",
       "      <th>fam_status</th>\n",
       "      <th>income</th>\n",
       "      <th>order_number</th>\n",
       "      <th>loyalty_flag</th>\n",
       "      <th>spending_flag</th>\n",
       "      <th>order_frequency_flag</th>\n",
       "      <th>...</th>\n",
       "      <th>busiest_period_of_day</th>\n",
       "      <th>region</th>\n",
       "      <th>department</th>\n",
       "      <th>Age_group</th>\n",
       "      <th>income_group</th>\n",
       "      <th>dependents_group</th>\n",
       "      <th>customer_profile</th>\n",
       "      <th>customer_income_profile</th>\n",
       "      <th>time_period</th>\n",
       "      <th>day</th>\n",
       "    </tr>\n",
       "  </thead>\n",
       "  <tbody>\n",
       "    <tr>\n",
       "      <th>4</th>\n",
       "      <td>Female</td>\n",
       "      <td>Alabama</td>\n",
       "      <td>31</td>\n",
       "      <td>3</td>\n",
       "      <td>married</td>\n",
       "      <td>40423</td>\n",
       "      <td>5</td>\n",
       "      <td>New customer</td>\n",
       "      <td>Low spender</td>\n",
       "      <td>Non-frequent customer</td>\n",
       "      <td>...</td>\n",
       "      <td>Most orders</td>\n",
       "      <td>South</td>\n",
       "      <td>beverages</td>\n",
       "      <td>Middle Aged Adults</td>\n",
       "      <td>Low Income</td>\n",
       "      <td>Parent</td>\n",
       "      <td>Married older parent</td>\n",
       "      <td>Low income married older parent</td>\n",
       "      <td>Between 8am and 5pm</td>\n",
       "      <td>Wednesday</td>\n",
       "    </tr>\n",
       "    <tr>\n",
       "      <th>5</th>\n",
       "      <td>Female</td>\n",
       "      <td>Alabama</td>\n",
       "      <td>31</td>\n",
       "      <td>3</td>\n",
       "      <td>married</td>\n",
       "      <td>40423</td>\n",
       "      <td>6</td>\n",
       "      <td>New customer</td>\n",
       "      <td>Low spender</td>\n",
       "      <td>Non-frequent customer</td>\n",
       "      <td>...</td>\n",
       "      <td>Average orders</td>\n",
       "      <td>South</td>\n",
       "      <td>beverages</td>\n",
       "      <td>Middle Aged Adults</td>\n",
       "      <td>Low Income</td>\n",
       "      <td>Parent</td>\n",
       "      <td>Married older parent</td>\n",
       "      <td>Low income married older parent</td>\n",
       "      <td>Before 8am</td>\n",
       "      <td>Monday</td>\n",
       "    </tr>\n",
       "    <tr>\n",
       "      <th>11</th>\n",
       "      <td>Female</td>\n",
       "      <td>Alabama</td>\n",
       "      <td>31</td>\n",
       "      <td>3</td>\n",
       "      <td>married</td>\n",
       "      <td>40423</td>\n",
       "      <td>1</td>\n",
       "      <td>New customer</td>\n",
       "      <td>Low spender</td>\n",
       "      <td>Non-frequent customer</td>\n",
       "      <td>...</td>\n",
       "      <td>Average orders</td>\n",
       "      <td>South</td>\n",
       "      <td>snacks</td>\n",
       "      <td>Middle Aged Adults</td>\n",
       "      <td>Low Income</td>\n",
       "      <td>Parent</td>\n",
       "      <td>Married older parent</td>\n",
       "      <td>Low income married older parent</td>\n",
       "      <td>Between 8am and 5pm</td>\n",
       "      <td>Monday</td>\n",
       "    </tr>\n",
       "    <tr>\n",
       "      <th>12</th>\n",
       "      <td>Female</td>\n",
       "      <td>Alabama</td>\n",
       "      <td>31</td>\n",
       "      <td>3</td>\n",
       "      <td>married</td>\n",
       "      <td>40423</td>\n",
       "      <td>2</td>\n",
       "      <td>New customer</td>\n",
       "      <td>Low spender</td>\n",
       "      <td>Non-frequent customer</td>\n",
       "      <td>...</td>\n",
       "      <td>Average orders</td>\n",
       "      <td>South</td>\n",
       "      <td>snacks</td>\n",
       "      <td>Middle Aged Adults</td>\n",
       "      <td>Low Income</td>\n",
       "      <td>Parent</td>\n",
       "      <td>Married older parent</td>\n",
       "      <td>Low income married older parent</td>\n",
       "      <td>Before 8am</td>\n",
       "      <td>Tuesday</td>\n",
       "    </tr>\n",
       "    <tr>\n",
       "      <th>17</th>\n",
       "      <td>Female</td>\n",
       "      <td>Alabama</td>\n",
       "      <td>31</td>\n",
       "      <td>3</td>\n",
       "      <td>married</td>\n",
       "      <td>40423</td>\n",
       "      <td>7</td>\n",
       "      <td>New customer</td>\n",
       "      <td>Low spender</td>\n",
       "      <td>Non-frequent customer</td>\n",
       "      <td>...</td>\n",
       "      <td>Most orders</td>\n",
       "      <td>South</td>\n",
       "      <td>snacks</td>\n",
       "      <td>Middle Aged Adults</td>\n",
       "      <td>Low Income</td>\n",
       "      <td>Parent</td>\n",
       "      <td>Married older parent</td>\n",
       "      <td>Low income married older parent</td>\n",
       "      <td>Between 8am and 5pm</td>\n",
       "      <td>Sunday</td>\n",
       "    </tr>\n",
       "  </tbody>\n",
       "</table>\n",
       "<p>5 rows × 27 columns</p>\n",
       "</div>"
      ],
      "text/plain": [
       "    Gender    State  Age  n_dependants fam_status  income  order_number  \\\n",
       "4   Female  Alabama   31             3    married   40423             5   \n",
       "5   Female  Alabama   31             3    married   40423             6   \n",
       "11  Female  Alabama   31             3    married   40423             1   \n",
       "12  Female  Alabama   31             3    married   40423             2   \n",
       "17  Female  Alabama   31             3    married   40423             7   \n",
       "\n",
       "    loyalty_flag spending_flag   order_frequency_flag  ...  \\\n",
       "4   New customer   Low spender  Non-frequent customer  ...   \n",
       "5   New customer   Low spender  Non-frequent customer  ...   \n",
       "11  New customer   Low spender  Non-frequent customer  ...   \n",
       "12  New customer   Low spender  Non-frequent customer  ...   \n",
       "17  New customer   Low spender  Non-frequent customer  ...   \n",
       "\n",
       "   busiest_period_of_day  region  department           Age_group  \\\n",
       "4            Most orders   South   beverages  Middle Aged Adults   \n",
       "5         Average orders   South   beverages  Middle Aged Adults   \n",
       "11        Average orders   South      snacks  Middle Aged Adults   \n",
       "12        Average orders   South      snacks  Middle Aged Adults   \n",
       "17           Most orders   South      snacks  Middle Aged Adults   \n",
       "\n",
       "    income_group dependents_group      customer_profile  \\\n",
       "4     Low Income           Parent  Married older parent   \n",
       "5     Low Income           Parent  Married older parent   \n",
       "11    Low Income           Parent  Married older parent   \n",
       "12    Low Income           Parent  Married older parent   \n",
       "17    Low Income           Parent  Married older parent   \n",
       "\n",
       "            customer_income_profile          time_period        day  \n",
       "4   Low income married older parent  Between 8am and 5pm  Wednesday  \n",
       "5   Low income married older parent           Before 8am     Monday  \n",
       "11  Low income married older parent  Between 8am and 5pm     Monday  \n",
       "12  Low income married older parent           Before 8am    Tuesday  \n",
       "17  Low income married older parent  Between 8am and 5pm     Sunday  \n",
       "\n",
       "[5 rows x 27 columns]"
      ]
     },
     "execution_count": 106,
     "metadata": {},
     "output_type": "execute_result"
    }
   ],
   "source": [
    "# Check output\n",
    "\n",
    "df_final_subset.head()"
   ]
  },
  {
   "cell_type": "markdown",
   "id": "4784a64e",
   "metadata": {},
   "source": [
    "## Exporting Data"
   ]
  },
  {
   "cell_type": "code",
   "execution_count": 107,
   "id": "4dd2486e",
   "metadata": {},
   "outputs": [],
   "source": [
    "# Export dataframe to pkl\n",
    "\n",
    "df_final_subset.to_pickle(os.path.join(path, '02 Data','Prepared Data', 'final_subset_sample.pkl'))"
   ]
  },
  {
   "cell_type": "code",
   "execution_count": null,
   "id": "2d3c7bfa",
   "metadata": {},
   "outputs": [],
   "source": []
  }
 ],
 "metadata": {
  "kernelspec": {
   "display_name": "Python 3 (ipykernel)",
   "language": "python",
   "name": "python3"
  },
  "language_info": {
   "codemirror_mode": {
    "name": "ipython",
    "version": 3
   },
   "file_extension": ".py",
   "mimetype": "text/x-python",
   "name": "python",
   "nbconvert_exporter": "python",
   "pygments_lexer": "ipython3",
   "version": "3.11.3"
  }
 },
 "nbformat": 4,
 "nbformat_minor": 5
}
