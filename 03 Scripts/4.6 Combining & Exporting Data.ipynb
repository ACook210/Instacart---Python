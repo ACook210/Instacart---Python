{
 "cells": [
  {
   "cell_type": "code",
   "execution_count": 1,
   "id": "febbb81a",
   "metadata": {},
   "outputs": [],
   "source": [
    "# Import Libraries\n",
    "import pandas as pd\n",
    "import numpy as np\n",
    "import os"
   ]
  },
  {
   "cell_type": "markdown",
   "id": "e657dd42",
   "metadata": {},
   "source": [
    "Importing Dataframes"
   ]
  },
  {
   "cell_type": "code",
   "execution_count": 2,
   "id": "325f881e",
   "metadata": {},
   "outputs": [],
   "source": [
    "#Pathway to the Dataframes\n",
    "path = r'C:\\Users\\cook family\\Desktop\\07-2023 Instacart Basket Analysis'"
   ]
  },
  {
   "cell_type": "code",
   "execution_count": 3,
   "id": "d5ccd24e",
   "metadata": {},
   "outputs": [],
   "source": [
    "#Import orders_checked.csv dataframe\n",
    "df_ords = pd.read_csv(os.path.join(path, '02 Data', 'Prepared Data', 'orders_checked.csv'), index_col = False)\n",
    "df_ords_prior = pd.read_csv(os.path.join(path, '02 Data', 'Original Data', 'orders_products_prior.csv'), index_col = False)\n",
    "df_prods = pd.read_csv(os.path.join(path, '02 Data', 'Prepared Data', 'Products_checked.csv'), index_col = False)"
   ]
  },
  {
   "cell_type": "code",
   "execution_count": 4,
   "id": "54bec1e0",
   "metadata": {},
   "outputs": [],
   "source": [
    "#Import order_products_prior.csv dataframe\n",
    "#df_ords_prior = pd.read_csv(os.path.join(path, '02 Data', 'Original Data', 'orders_products_prior.csv'), index_col = False)"
   ]
  },
  {
   "cell_type": "code",
   "execution_count": 5,
   "id": "0adedd4a",
   "metadata": {},
   "outputs": [],
   "source": [
    "#Import products_checked.csv dataframe\n",
    "#df_prods = pd.read_csv(os.path.join(path, '02 Data', 'Prepared Data', 'Products_checked.csv'), index_col = False)"
   ]
  },
  {
   "cell_type": "code",
   "execution_count": 6,
   "id": "258d4bbc",
   "metadata": {},
   "outputs": [],
   "source": [
    "#Importing orders_wrangled.csv dataframe\n",
    "df_ords_wrangled = pd.read_csv(os.path.join(path, '02 Data', 'Prepared Data', 'orders_wrangled.csv'), index_col = False)"
   ]
  },
  {
   "cell_type": "markdown",
   "id": "92511ad3",
   "metadata": {},
   "source": [
    "Exercise 4.6"
   ]
  },
  {
   "cell_type": "code",
   "execution_count": 20,
   "id": "2e24d4ac",
   "metadata": {},
   "outputs": [
    {
     "data": {
      "text/plain": [
       "Index(['order_id', 'user_id', 'eval_set', 'order_number', 'orders_day_of_week',\n",
       "       'order_hour_of_day', 'days_since_last_order'],\n",
       "      dtype='object')"
      ]
     },
     "execution_count": 20,
     "metadata": {},
     "output_type": "execute_result"
    }
   ],
   "source": [
    "df_ords.columns"
   ]
  },
  {
   "cell_type": "code",
   "execution_count": 9,
   "id": "56c916f9",
   "metadata": {},
   "outputs": [],
   "source": [
    "#Drop the unnecessary Column\n",
    "df_ords = df_ords.drop(columns = ['Unnamed: 0'])"
   ]
  },
  {
   "cell_type": "code",
   "execution_count": 21,
   "id": "ae46fe5f",
   "metadata": {},
   "outputs": [
    {
     "data": {
      "text/plain": [
       "Index(['order_id', 'user_id', 'eval_set', 'order_number', 'orders_day_of_week',\n",
       "       'order_hour_of_day', 'days_since_last_order'],\n",
       "      dtype='object')"
      ]
     },
     "execution_count": 21,
     "metadata": {},
     "output_type": "execute_result"
    }
   ],
   "source": [
    "df_ords.columns"
   ]
  },
  {
   "cell_type": "code",
   "execution_count": 11,
   "id": "0a5805af",
   "metadata": {},
   "outputs": [
    {
     "data": {
      "text/plain": [
       "(32434489, 4)"
      ]
     },
     "execution_count": 11,
     "metadata": {},
     "output_type": "execute_result"
    }
   ],
   "source": [
    "df_ords_prior.shape"
   ]
  },
  {
   "cell_type": "code",
   "execution_count": 12,
   "id": "13feae7c",
   "metadata": {},
   "outputs": [
    {
     "data": {
      "text/plain": [
       "(3421083, 7)"
      ]
     },
     "execution_count": 12,
     "metadata": {},
     "output_type": "execute_result"
    }
   ],
   "source": [
    "df_ords.shape"
   ]
  },
  {
   "cell_type": "code",
   "execution_count": 13,
   "id": "1fa4fa12",
   "metadata": {},
   "outputs": [],
   "source": [
    "#Merge dataframes with 'order_id' as the key\n",
    "df_merged_large = df_ords.merge(df_ords_prior, on = 'order_id', indicator = True)"
   ]
  },
  {
   "cell_type": "code",
   "execution_count": 14,
   "id": "6e59e92d",
   "metadata": {},
   "outputs": [
    {
     "data": {
      "text/html": [
       "<div>\n",
       "<style scoped>\n",
       "    .dataframe tbody tr th:only-of-type {\n",
       "        vertical-align: middle;\n",
       "    }\n",
       "\n",
       "    .dataframe tbody tr th {\n",
       "        vertical-align: top;\n",
       "    }\n",
       "\n",
       "    .dataframe thead th {\n",
       "        text-align: right;\n",
       "    }\n",
       "</style>\n",
       "<table border=\"1\" class=\"dataframe\">\n",
       "  <thead>\n",
       "    <tr style=\"text-align: right;\">\n",
       "      <th></th>\n",
       "      <th>order_id</th>\n",
       "      <th>user_id</th>\n",
       "      <th>eval_set</th>\n",
       "      <th>order_number</th>\n",
       "      <th>orders_day_of_week</th>\n",
       "      <th>order_hour_of_day</th>\n",
       "      <th>days_since_last_order</th>\n",
       "      <th>product_id</th>\n",
       "      <th>add_to_cart_order</th>\n",
       "      <th>reordered</th>\n",
       "      <th>_merge</th>\n",
       "    </tr>\n",
       "  </thead>\n",
       "  <tbody>\n",
       "    <tr>\n",
       "      <th>0</th>\n",
       "      <td>2539329</td>\n",
       "      <td>1</td>\n",
       "      <td>prior</td>\n",
       "      <td>1</td>\n",
       "      <td>2</td>\n",
       "      <td>8</td>\n",
       "      <td>NaN</td>\n",
       "      <td>196</td>\n",
       "      <td>1</td>\n",
       "      <td>0</td>\n",
       "      <td>both</td>\n",
       "    </tr>\n",
       "    <tr>\n",
       "      <th>1</th>\n",
       "      <td>2539329</td>\n",
       "      <td>1</td>\n",
       "      <td>prior</td>\n",
       "      <td>1</td>\n",
       "      <td>2</td>\n",
       "      <td>8</td>\n",
       "      <td>NaN</td>\n",
       "      <td>14084</td>\n",
       "      <td>2</td>\n",
       "      <td>0</td>\n",
       "      <td>both</td>\n",
       "    </tr>\n",
       "    <tr>\n",
       "      <th>2</th>\n",
       "      <td>2539329</td>\n",
       "      <td>1</td>\n",
       "      <td>prior</td>\n",
       "      <td>1</td>\n",
       "      <td>2</td>\n",
       "      <td>8</td>\n",
       "      <td>NaN</td>\n",
       "      <td>12427</td>\n",
       "      <td>3</td>\n",
       "      <td>0</td>\n",
       "      <td>both</td>\n",
       "    </tr>\n",
       "    <tr>\n",
       "      <th>3</th>\n",
       "      <td>2539329</td>\n",
       "      <td>1</td>\n",
       "      <td>prior</td>\n",
       "      <td>1</td>\n",
       "      <td>2</td>\n",
       "      <td>8</td>\n",
       "      <td>NaN</td>\n",
       "      <td>26088</td>\n",
       "      <td>4</td>\n",
       "      <td>0</td>\n",
       "      <td>both</td>\n",
       "    </tr>\n",
       "    <tr>\n",
       "      <th>4</th>\n",
       "      <td>2539329</td>\n",
       "      <td>1</td>\n",
       "      <td>prior</td>\n",
       "      <td>1</td>\n",
       "      <td>2</td>\n",
       "      <td>8</td>\n",
       "      <td>NaN</td>\n",
       "      <td>26405</td>\n",
       "      <td>5</td>\n",
       "      <td>0</td>\n",
       "      <td>both</td>\n",
       "    </tr>\n",
       "  </tbody>\n",
       "</table>\n",
       "</div>"
      ],
      "text/plain": [
       "   order_id  user_id eval_set  order_number  orders_day_of_week  \\\n",
       "0   2539329        1    prior             1                   2   \n",
       "1   2539329        1    prior             1                   2   \n",
       "2   2539329        1    prior             1                   2   \n",
       "3   2539329        1    prior             1                   2   \n",
       "4   2539329        1    prior             1                   2   \n",
       "\n",
       "   order_hour_of_day  days_since_last_order  product_id  add_to_cart_order  \\\n",
       "0                  8                    NaN         196                  1   \n",
       "1                  8                    NaN       14084                  2   \n",
       "2                  8                    NaN       12427                  3   \n",
       "3                  8                    NaN       26088                  4   \n",
       "4                  8                    NaN       26405                  5   \n",
       "\n",
       "   reordered _merge  \n",
       "0          0   both  \n",
       "1          0   both  \n",
       "2          0   both  \n",
       "3          0   both  \n",
       "4          0   both  "
      ]
     },
     "execution_count": 14,
     "metadata": {},
     "output_type": "execute_result"
    }
   ],
   "source": [
    "df_merged_large.head()"
   ]
  },
  {
   "cell_type": "code",
   "execution_count": 15,
   "id": "54c83dab",
   "metadata": {},
   "outputs": [
    {
     "data": {
      "text/plain": [
       "both          32434489\n",
       "left_only            0\n",
       "right_only           0\n",
       "Name: _merge, dtype: int64"
      ]
     },
     "execution_count": 15,
     "metadata": {},
     "output_type": "execute_result"
    }
   ],
   "source": [
    "df_merged_large['_merge'].value_counts()"
   ]
  },
  {
   "cell_type": "markdown",
   "id": "7117ded9",
   "metadata": {},
   "source": [
    "Questions"
   ]
  },
  {
   "cell_type": "markdown",
   "id": "813f193a",
   "metadata": {},
   "source": [
    "Question 2 Export a merged files in pickle format"
   ]
  },
  {
   "cell_type": "code",
   "execution_count": 16,
   "id": "75a198dc",
   "metadata": {},
   "outputs": [],
   "source": [
    "#Exporting merged file in pickle format\n",
    "df_merged_large.to_pickle(os.path.join(path, '02 Data','Prepared Data', 'orders_products_combined.pkl'))"
   ]
  },
  {
   "cell_type": "markdown",
   "id": "35e61860",
   "metadata": {},
   "source": [
    "Question 3 See second attachment for combined dataframe"
   ]
  },
  {
   "cell_type": "markdown",
   "id": "8f2957f9",
   "metadata": {},
   "source": [
    "Question 4 Check the shape of the imported dataframe"
   ]
  },
  {
   "cell_type": "code",
   "execution_count": 17,
   "id": "ed6b2c9e",
   "metadata": {},
   "outputs": [
    {
     "data": {
      "text/plain": [
       "(32434489, 11)"
      ]
     },
     "execution_count": 17,
     "metadata": {},
     "output_type": "execute_result"
    }
   ],
   "source": [
    "#Shape of df_merged_large dataframe\n",
    "df_merged_large.shape"
   ]
  },
  {
   "cell_type": "markdown",
   "id": "9bf2626f",
   "metadata": {},
   "source": [
    "Question 5 Determine a suitable way to combine the orders_products_combined dataframe with your products data set."
   ]
  },
  {
   "cell_type": "code",
   "execution_count": 18,
   "id": "889d7d1d",
   "metadata": {},
   "outputs": [
    {
     "data": {
      "text/plain": [
       "(49672, 6)"
      ]
     },
     "execution_count": 18,
     "metadata": {},
     "output_type": "execute_result"
    }
   ],
   "source": [
    "#Checking the shape of prducts_checked dataframe\n",
    "df_prods.shape"
   ]
  }
 ],
 "metadata": {
  "kernelspec": {
   "display_name": "Python 3 (ipykernel)",
   "language": "python",
   "name": "python3"
  },
  "language_info": {
   "codemirror_mode": {
    "name": "ipython",
    "version": 3
   },
   "file_extension": ".py",
   "mimetype": "text/x-python",
   "name": "python",
   "nbconvert_exporter": "python",
   "pygments_lexer": "ipython3",
   "version": "3.11.3"
  }
 },
 "nbformat": 4,
 "nbformat_minor": 5
}
